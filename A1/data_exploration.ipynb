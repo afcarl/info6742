{
 "cells": [
  {
   "cell_type": "markdown",
   "metadata": {
    "deletable": true,
    "editable": true
   },
   "source": [
    "# This notebook is used to load the CMV data, explore its structure, and output a cleaned version."
   ]
  },
  {
   "cell_type": "markdown",
   "metadata": {
    "deletable": true,
    "editable": true
   },
   "source": [
    "The line below will download the data into a directory outside the repo and unzip it."
   ]
  },
  {
   "cell_type": "code",
   "execution_count": 120,
   "metadata": {
    "collapsed": true,
    "deletable": true,
    "editable": true
   },
   "outputs": [],
   "source": [
    "! cd ../.. && mkdir CMV && cd CMV && curl -# -O https://chenhaot.com/data/cmv/cmv_20161111.jsonlist.gz && gunzip cmv_20161111.jsonlist.gz "
   ]
  },
  {
   "cell_type": "markdown",
   "metadata": {
    "deletable": true,
    "editable": true
   },
   "source": [
    "Now the JSON file can be loaded into Python"
   ]
  },
  {
   "cell_type": "code",
   "execution_count": 8,
   "metadata": {
    "collapsed": true,
    "deletable": true,
    "editable": true
   },
   "outputs": [],
   "source": [
    "import glob\n",
    "import json\n",
    "data = glob.glob('../../CMV/*')[0] # Get string for JSON file with data"
   ]
  },
  {
   "cell_type": "code",
   "execution_count": 66,
   "metadata": {
    "collapsed": true,
    "deletable": true,
    "editable": true
   },
   "outputs": [],
   "source": [
    "f = open(data, 'rb')"
   ]
  },
  {
   "cell_type": "code",
   "execution_count": 67,
   "metadata": {
    "collapsed": false,
    "deletable": true,
    "editable": true
   },
   "outputs": [
    {
     "name": "stdout",
     "output_type": "stream",
     "text": [
      "{'contest_mode': False, 'suggested_sort': 'qa', 'banned_by': None, 'media_embed': {}, 'subreddit': 'changemyview', 'selftext_html': '<!-- SC_OFF --><div class=\"md\"><p>I have to say that I am very disappointed with the current state of political discourse in today&#39;s society. Both in mass media and the Internet, political discussion seems to be ruled by angry extremists who think that the other side is evil and shout down, insult and in some case censor anyone who doesn&#39;t think so. Many times over I&#39;ve dealt with those types of people (both from the left and the right) only to find out that reason and logic rarely, if ever work on them. Their extreme views also focus a lot of outrage (sometimes from other extremists), often derailing the discussion from the original topic.</p>\\n\\n<p>So I have a question: Do you guys this can be fixed? Or is this just <a href=\"http://fishbowl.pastiche.org/archives/pictures/greater_internet_fuckwad_theory.jpg\">the GIFT in practise?</a></p>\\n\\n<hr/>\\n\\n<blockquote>\\n<p><em>Hello, users of CMV! This is a footnote from your moderators. We&#39;d just like to remind you of a couple of things. Firstly, please remember to</em> <strong><em><a href=\"http://www.reddit.com/r/changemyview/wiki/rules\">read through our rules</a></em></strong>. <em>If you see a comment that has broken one, it is more effective to report it than downvote it. Speaking of which,</em> <strong><em><a href=\"http://www.reddit.com/r/changemyview/wiki/guidelines#wiki_upvoting.2Fdownvoting\">downvotes don&#39;t change views</a></em></strong><em>! If you are thinking about submitting a CMV yourself, please have a look through our</em> <strong><em><a href=\"http://www.reddit.com/r/changemyview/wiki/populartopics\">popular topics wiki</a></em></strong> <em>first. Any questions or concerns? Feel free to</em> <strong><em><a href=\"http://www.reddit.com/message/compose?to=/r/changemyview\">message us</a></em></strong>. <em>Happy CMVing!</em></p>\\n</blockquote>\\n</div><!-- SC_ON -->', 'selftext': \"I have to say that I am very disappointed with the current state of political discourse in today's society. Both in mass media and the Internet, political discussion seems to be ruled by angry extremists who think that the other side is evil and shout down, insult and in some case censor anyone who doesn't think so. Many times over I've dealt with those types of people (both from the left and the right) only to find out that reason and logic rarely, if ever work on them. Their extreme views also focus a lot of outrage (sometimes from other extremists), often derailing the discussion from the original topic.\\n\\nSo I have a question: Do you guys this can be fixed? Or is this just [the GIFT in practise?](http://fishbowl.pastiche.org/archives/pictures/greater_internet_fuckwad_theory.jpg)\\n_____\\n\\n> *Hello, users of CMV! This is a footnote from your moderators. We'd just like to remind you of a couple of things. Firstly, please remember to* ***[read through our rules](http://www.reddit.com/r/changemyview/wiki/rules)***. *If you see a comment that has broken one, it is more effective to report it than downvote it. Speaking of which,* ***[downvotes don't change views](http://www.reddit.com/r/changemyview/wiki/guidelines#wiki_upvoting.2Fdownvoting)****! If you are thinking about submitting a CMV yourself, please have a look through our* ***[popular topics wiki](http://www.reddit.com/r/changemyview/wiki/populartopics)*** *first. Any questions or concerns? Feel free to* ***[message us](http://www.reddit.com/message/compose?to=/r/changemyview)***. *Happy CMVing!*\", 'likes': None, 'domain': 'self.changemyview', 'user_reports': [], 'secure_media': None, 'saved': False, 'id': '5c8xdc', 'gilded': 0, 'secure_media_embed': {}, 'clicked': False, 'report_reasons': None, 'author': 'ralpher313', 'media': None, 'comments': [{'subreddit_id': 't5_2w2s8', 'banned_by': None, 'removal_reason': None, 'link_id': 't3_5c8xdc', 'likes': None, 'replies': {'kind': 'Listing', 'data': {'modhash': '', 'children': ['d9ujt0e', 'd9ujrsj'], 'after': None, 'before': None}}, 'user_reports': [], 'saved': False, 'id': 'd9ujmbi', 'gilded': 0, 'archived': False, 'report_reasons': None, 'author': 'Ansuz07', 'parent_id': 't3_5c8xdc', 'score': 1, 'approved_by': None, 'controversiality': 0, 'body': \"I would offer this very sub as a counterpoint - throughout this election we have had very civil, well informed discussions about both candidates (albeit more democratic leaning just due to Reddit's natural demographics).  Vitriolic discussion has been shut down by the mod team and only level headed discussion allowed to remain.\\n\\nThe internet allows for echo-chamber discussions to be certain, but its not _impossible_ to find civil discourse on the internet.  It just takes communities like this one who commit to that ideal and this can and does happen.\", 'edited': False, 'author_flair_css_class': None, 'downs': 0, 'body_html': '<div class=\"md\"><p>I would offer this very sub as a counterpoint - throughout this election we have had very civil, well informed discussions about both candidates (albeit more democratic leaning just due to Reddit&#39;s natural demographics).  Vitriolic discussion has been shut down by the mod team and only level headed discussion allowed to remain.</p>\\n\\n<p>The internet allows for echo-chamber discussions to be certain, but its not <em>impossible</em> to find civil discourse on the internet.  It just takes communities like this one who commit to that ideal and this can and does happen.</p>\\n</div>', 'stickied': False, 'subreddit': 'changemyview', 'score_hidden': True, 'name': 't1_d9ujmbi', 'created': 1478826647.0, 'author_flair_text': '75∆', 'created_utc': 1478797847.0, 'ups': 1, 'mod_reports': [], 'num_reports': None, 'distinguished': None}, {'count': 1, 'parent_id': 't1_d9ujmbi', 'children': ['d9ujrsj'], 'name': 't1_d9ujrsj', 'id': 'd9ujrsj'}, {'subreddit_id': 't5_2w2s8', 'banned_by': None, 'removal_reason': None, 'link_id': 't3_5c8xdc', 'likes': None, 'replies': {'kind': 'Listing', 'data': {'modhash': '', 'children': ['d9ujw71'], 'after': None, 'before': None}}, 'user_reports': [], 'saved': False, 'id': 'd9ujt0e', 'gilded': 0, 'archived': False, 'report_reasons': None, 'author': 'ralpher313', 'parent_id': 't1_d9ujmbi', 'score': 1, 'approved_by': None, 'controversiality': 0, 'body': \"Yes, but it seems like this can't be achieved without heavy moderation. We shouldn't need mods to not fling shit at other people.\", 'edited': False, 'author_flair_css_class': None, 'downs': 0, 'body_html': '<div class=\"md\"><p>Yes, but it seems like this can&#39;t be achieved without heavy moderation. We shouldn&#39;t need mods to not fling shit at other people.</p>\\n</div>', 'stickied': False, 'subreddit': 'changemyview', 'score_hidden': True, 'name': 't1_d9ujt0e', 'created': 1478826860.0, 'author_flair_text': None, 'created_utc': 1478798060.0, 'ups': 1, 'mod_reports': [], 'num_reports': None, 'distinguished': None}, {'subreddit_id': 't5_2w2s8', 'banned_by': None, 'removal_reason': None, 'link_id': 't3_5c8xdc', 'likes': None, 'replies': {'kind': 'Listing', 'data': {'modhash': '', 'children': ['d9uk2bm'], 'after': None, 'before': None}}, 'user_reports': [], 'saved': False, 'id': 'd9ujw71', 'gilded': 0, 'archived': False, 'report_reasons': None, 'author': 'Ansuz07', 'parent_id': 't1_d9ujt0e', 'score': 1, 'approved_by': None, 'controversiality': 0, 'body': \"That doesn't mean that you can't have a meaningful discussion.  We have a place where the rules call for civility and the rules are enforced.  That allows for the very thing here that you claim can't occur.\", 'edited': False, 'author_flair_css_class': None, 'downs': 0, 'body_html': '<div class=\"md\"><p>That doesn&#39;t mean that you can&#39;t have a meaningful discussion.  We have a place where the rules call for civility and the rules are enforced.  That allows for the very thing here that you claim can&#39;t occur.</p>\\n</div>', 'stickied': False, 'subreddit': 'changemyview', 'score_hidden': True, 'name': 't1_d9ujw71', 'created': 1478826963.0, 'author_flair_text': '75∆', 'created_utc': 1478798163.0, 'ups': 1, 'mod_reports': [], 'num_reports': None, 'distinguished': None}, {'subreddit_id': 't5_2w2s8', 'banned_by': None, 'removal_reason': None, 'link_id': 't3_5c8xdc', 'likes': None, 'replies': {'kind': 'Listing', 'data': {'modhash': '', 'children': ['d9uk2zz', 'd9ukulr', 'd9uk6m0', 'd9ukuqd'], 'after': None, 'before': None}}, 'user_reports': [], 'saved': False, 'id': 'd9uk2bm', 'gilded': 0, 'archived': False, 'report_reasons': None, 'author': 'ralpher313', 'parent_id': 't1_d9ujw71', 'score': 1, 'approved_by': None, 'controversiality': 0, 'body': \"I didn't said that it can't occur, it just seems to me that way. Or maybe this election has left me VERY worn out with politics and I've just started noticing this more.\\n\\n∆\\n\\nAlso, kinda off-topic, but don't know where else to ask this:\\n\\nWhat should I do when I'm REALLY fucking sick of politics?\\n\", 'edited': False, 'author_flair_css_class': None, 'downs': 0, 'body_html': '<div class=\"md\"><p>I didn&#39;t said that it can&#39;t occur, it just seems to me that way. Or maybe this election has left me VERY worn out with politics and I&#39;ve just started noticing this more.</p>\\n\\n<p>∆</p>\\n\\n<p>Also, kinda off-topic, but don&#39;t know where else to ask this:</p>\\n\\n<p>What should I do when I&#39;m REALLY fucking sick of politics?</p>\\n</div>', 'stickied': False, 'subreddit': 'changemyview', 'score_hidden': True, 'name': 't1_d9uk2bm', 'created': 1478827155.0, 'author_flair_text': None, 'created_utc': 1478798355.0, 'ups': 1, 'mod_reports': [], 'num_reports': None, 'distinguished': None}, {'subreddit_id': 't5_2w2s8', 'banned_by': None, 'removal_reason': None, 'link_id': 't3_5c8xdc', 'likes': None, 'replies': '', 'user_reports': [], 'saved': False, 'id': 'd9ukuqd', 'gilded': 0, 'archived': False, 'report_reasons': None, 'author': 'Krieg-The-Psycho1', 'parent_id': 't1_d9uk2bm', 'score': 1, 'approved_by': None, 'controversiality': 0, 'body': 'Practice a hobby when you are sick of politics. I would personally recommend something physical that can pay for itself.', 'edited': False, 'author_flair_css_class': None, 'downs': 0, 'body_html': '<div class=\"md\"><p>Practice a hobby when you are sick of politics. I would personally recommend something physical that can pay for itself.</p>\\n</div>', 'stickied': False, 'subreddit': 'changemyview', 'score_hidden': True, 'name': 't1_d9ukuqd', 'created': 1478828050.0, 'author_flair_text': '7∆', 'created_utc': 1478799250.0, 'ups': 1, 'mod_reports': [], 'num_reports': None, 'distinguished': None}, {'subreddit_id': 't5_2w2s8', 'banned_by': None, 'removal_reason': None, 'link_id': 't3_5c8xdc', 'likes': None, 'replies': {'kind': 'Listing', 'data': {'modhash': '', 'children': ['d9ukg11', 'd9v5811'], 'after': None, 'before': None}}, 'user_reports': [], 'saved': False, 'id': 'd9uk6m0', 'gilded': 0, 'archived': False, 'report_reasons': None, 'author': 'Ansuz07', 'parent_id': 't1_d9uk2bm', 'score': 1, 'approved_by': None, 'controversiality': 0, 'body': \"This election has certianly been very polarizing and has lead to more extremist people voicing their views - that much is true.\\n\\nI'd still argue that there are many of us who have carved out places where such speech is not tolerated.  All views are welcome here, so long as they are civil and well reasoned.\", 'edited': False, 'author_flair_css_class': None, 'downs': 0, 'body_html': '<div class=\"md\"><p>This election has certianly been very polarizing and has lead to more extremist people voicing their views - that much is true.</p>\\n\\n<p>I&#39;d still argue that there are many of us who have carved out places where such speech is not tolerated.  All views are welcome here, so long as they are civil and well reasoned.</p>\\n</div>', 'stickied': False, 'subreddit': 'changemyview', 'score_hidden': True, 'name': 't1_d9uk6m0', 'created': 1478827292.0, 'author_flair_text': '75∆', 'created_utc': 1478798492.0, 'ups': 1, 'mod_reports': [], 'num_reports': None, 'distinguished': None}, {'count': 1, 'parent_id': 't1_d9uk6m0', 'children': ['d9v5811'], 'name': 't1_d9v5811', 'id': 'd9v5811'}, {'subreddit_id': 't5_2w2s8', 'banned_by': None, 'removal_reason': None, 'link_id': 't3_5c8xdc', 'likes': None, 'replies': {'kind': 'Listing', 'data': {'modhash': '', 'children': ['d9ukl5h'], 'after': None, 'before': None}}, 'user_reports': [], 'saved': False, 'id': 'd9ukg11', 'gilded': 0, 'archived': False, 'report_reasons': None, 'author': 'ralpher313', 'parent_id': 't1_d9uk6m0', 'score': 1, 'approved_by': None, 'controversiality': 0, 'body': \"Well, I'm happy to know that, and I'm certainly gonna visit this sub more often, if that's the case.\\n\\nIt just baffles me that SO many people all across the Internet spend SO much time focusing their attention and devoting their free time to things that they don't like and outrages them. I mean, do so many people have nothing else to do, or shitty enough lives that this is their only outlet for rage?\", 'edited': False, 'author_flair_css_class': None, 'downs': 0, 'body_html': '<div class=\"md\"><p>Well, I&#39;m happy to know that, and I&#39;m certainly gonna visit this sub more often, if that&#39;s the case.</p>\\n\\n<p>It just baffles me that SO many people all across the Internet spend SO much time focusing their attention and devoting their free time to things that they don&#39;t like and outrages them. I mean, do so many people have nothing else to do, or shitty enough lives that this is their only outlet for rage?</p>\\n</div>', 'stickied': False, 'subreddit': 'changemyview', 'score_hidden': True, 'name': 't1_d9ukg11', 'created': 1478827588.0, 'author_flair_text': None, 'created_utc': 1478798788.0, 'ups': 1, 'mod_reports': [], 'num_reports': None, 'distinguished': None}, {'subreddit_id': 't5_2w2s8', 'banned_by': None, 'removal_reason': None, 'link_id': 't3_5c8xdc', 'likes': None, 'replies': {'kind': 'Listing', 'data': {'modhash': '', 'children': ['d9ukq9m'], 'after': None, 'before': None}}, 'user_reports': [], 'saved': False, 'id': 'd9ukl5h', 'gilded': 0, 'archived': False, 'report_reasons': None, 'author': 'Ansuz07', 'parent_id': 't1_d9ukg11', 'score': 1, 'approved_by': None, 'controversiality': 0, 'body': 'People have always done this - men would get together in clubs or lodges and talk or women would have their sewing groups.  The difference is just that their conversations are public and anonymous now, so there is no barrier to knowing what they _really_ think.', 'edited': False, 'author_flair_css_class': None, 'downs': 0, 'body_html': '<div class=\"md\"><p>People have always done this - men would get together in clubs or lodges and talk or women would have their sewing groups.  The difference is just that their conversations are public and anonymous now, so there is no barrier to knowing what they <em>really</em> think.</p>\\n</div>', 'stickied': False, 'subreddit': 'changemyview', 'score_hidden': True, 'name': 't1_d9ukl5h', 'created': 1478827749.0, 'author_flair_text': '75∆', 'created_utc': 1478798949.0, 'ups': 1, 'mod_reports': [], 'num_reports': None, 'distinguished': None}, {'subreddit_id': 't5_2w2s8', 'banned_by': None, 'removal_reason': None, 'link_id': 't3_5c8xdc', 'likes': None, 'replies': '', 'user_reports': [], 'saved': False, 'id': 'd9ukq9m', 'gilded': 0, 'archived': False, 'report_reasons': None, 'author': 'ralpher313', 'parent_id': 't1_d9ukl5h', 'score': 1, 'approved_by': None, 'controversiality': 0, 'body': \"I suppose you're right.\\n\\nWhat a weird little thing, our world is.\", 'edited': False, 'author_flair_css_class': None, 'downs': 0, 'body_html': '<div class=\"md\"><p>I suppose you&#39;re right.</p>\\n\\n<p>What a weird little thing, our world is.</p>\\n</div>', 'stickied': False, 'subreddit': 'changemyview', 'score_hidden': True, 'name': 't1_d9ukq9m', 'created': 1478827909.0, 'author_flair_text': None, 'created_utc': 1478799109.0, 'ups': 1, 'mod_reports': [], 'num_reports': None, 'distinguished': None}, {'subreddit_id': 't5_2w2s8', 'banned_by': None, 'removal_reason': None, 'link_id': 't3_5c8xdc', 'likes': None, 'replies': '', 'user_reports': [], 'saved': False, 'id': 'd9ukulr', 'gilded': 0, 'archived': False, 'report_reasons': None, 'author': '______NSA______', 'parent_id': 't1_d9uk2bm', 'score': 1, 'approved_by': None, 'controversiality': 0, 'body': \"if you want a different kind of fight, you could check out r/whowouldwin. Its very well moderated and incredible well mannered considering it often comes down to fanboys arguing.\\n\\nOr you could go outside. Turn off the TV and put down the phone. Often it's the best way to clear my head and remind me that the world is still sane and the sun will still rise. \", 'edited': False, 'author_flair_css_class': None, 'downs': 0, 'body_html': '<div class=\"md\"><p>if you want a different kind of fight, you could check out <a href=\"/r/whowouldwin\">r/whowouldwin</a>. Its very well moderated and incredible well mannered considering it often comes down to fanboys arguing.</p>\\n\\n<p>Or you could go outside. Turn off the TV and put down the phone. Often it&#39;s the best way to clear my head and remind me that the world is still sane and the sun will still rise. </p>\\n</div>', 'stickied': False, 'subreddit': 'changemyview', 'score_hidden': True, 'name': 't1_d9ukulr', 'created': 1478828046.0, 'author_flair_text': '1∆', 'created_utc': 1478799246.0, 'ups': 1, 'mod_reports': [], 'num_reports': None, 'distinguished': None}, {'subreddit_id': 't5_2w2s8', 'banned_by': None, 'removal_reason': None, 'link_id': 't3_5c8xdc', 'likes': None, 'replies': '', 'user_reports': [], 'saved': False, 'id': 'd9uk2zz', 'gilded': 0, 'archived': False, 'report_reasons': None, 'author': 'DeltaBot', 'parent_id': 't1_d9uk2bm', 'score': 1, 'approved_by': None, 'controversiality': 0, 'body': 'Confirmed: 1 delta awarded to /u/Ansuz07 ([75∆](/r/changemyview/wiki/user/Ansuz07)).\\n\\n^[Delta\\xa0System\\xa0Explained](https://www.reddit.com/r/changemyview/wiki/deltasystem) ^| ^[Deltaboards](https://www.reddit.com/r/changemyview/wiki/deltaboards)\\n[\\u200b](HTTP://DB3PARAMSSTART\\n{\\n  \"comment\": \"This is hidden text for DB3 to parse. Please contact the author of DB3 if you see this\",\\n  \"issues\": {},\\n  \"parentUserName\": \"Ansuz07\"\\n}\\nDB3PARAMSEND)', 'edited': False, 'author_flair_css_class': 'points', 'downs': 0, 'body_html': '<div class=\"md\"><p>Confirmed: 1 delta awarded to <a href=\"/u/Ansuz07\">/u/Ansuz07</a> (<a href=\"/r/changemyview/wiki/user/Ansuz07\">75∆</a>).</p>\\n\\n<p><sup><a href=\"https://www.reddit.com/r/changemyview/wiki/deltasystem\">Delta\\xa0System\\xa0Explained</a></sup> <sup>|</sup> <sup><a href=\"https://www.reddit.com/r/changemyview/wiki/deltaboards\">Deltaboards</a></sup>\\n<a href=\"HTTP://DB3PARAMSSTART%0A%7B%0A%20%20%22comment%22:%20%22This%20is%20hidden%20text%20for%20DB3%20to%20parse.%20Please%20contact%20the%20author%20of%20DB3%20if%20you%20see%20this%22,%0A%20%20%22issues%22:%20%7B%7D,%0A%20%20%22parentUserName%22:%20%22Ansuz07%22%0A%7D%0ADB3PARAMSEND\">\\u200b</a></p>\\n</div>', 'stickied': False, 'subreddit': 'changemyview', 'score_hidden': True, 'name': 't1_d9uk2zz', 'created': 1478827176.0, 'author_flair_text': '∞∆', 'created_utc': 1478798376.0, 'ups': 1, 'mod_reports': [], 'num_reports': None, 'distinguished': 'moderator'}, {'subreddit_id': 't5_2w2s8', 'banned_by': None, 'removal_reason': None, 'link_id': 't3_5c8xdc', 'likes': None, 'replies': {'kind': 'Listing', 'data': {'modhash': '', 'children': ['d9uvled'], 'after': None, 'before': None}}, 'user_reports': [], 'saved': False, 'id': 'd9uv7ue', 'gilded': 0, 'archived': False, 'report_reasons': None, 'author': 'InsufficientOverkill', 'parent_id': 't3_5c8xdc', 'score': 1, 'approved_by': None, 'controversiality': 0, 'body': 'I think you may have a limited vision of meaningful serious discussion. If you find that \"reason and logic rarely, if ever *work on them*\" that suggests that you are unsatisfied with a discussion unless you notice your arguments impacting their views. If the you\\'re mainly interested in debates that end in agreement, then political discussions, whether online or in person, will always feel pointless. Plus, it\\'s still possible to have a productive discussion between two people with similar political leanings: discussions can clarify views, check facts, etc., not just change minds.\\n\\nBut other than that, I think you underestimate the number of people online who share your frustrations and are open to discussing more nuanced views. If you seek out moderate spaces like this sub, and lead by example with a reasonable tone, it is absolutely possible, although frustrating, to wade through all the extremist crap and have a good discussion. ', 'edited': False, 'author_flair_css_class': None, 'downs': 0, 'body_html': '<div class=\"md\"><p>I think you may have a limited vision of meaningful serious discussion. If you find that &quot;reason and logic rarely, if ever <em>work on them</em>&quot; that suggests that you are unsatisfied with a discussion unless you notice your arguments impacting their views. If the you&#39;re mainly interested in debates that end in agreement, then political discussions, whether online or in person, will always feel pointless. Plus, it&#39;s still possible to have a productive discussion between two people with similar political leanings: discussions can clarify views, check facts, etc., not just change minds.</p>\\n\\n<p>But other than that, I think you underestimate the number of people online who share your frustrations and are open to discussing more nuanced views. If you seek out moderate spaces like this sub, and lead by example with a reasonable tone, it is absolutely possible, although frustrating, to wade through all the extremist crap and have a good discussion. </p>\\n</div>', 'stickied': False, 'subreddit': 'changemyview', 'score_hidden': True, 'name': 't1_d9uv7ue', 'created': 1478840037.0, 'author_flair_text': '1∆', 'created_utc': 1478811237.0, 'ups': 1, 'mod_reports': [], 'num_reports': None, 'distinguished': None}, {'subreddit_id': 't5_2w2s8', 'banned_by': None, 'removal_reason': None, 'link_id': 't3_5c8xdc', 'likes': None, 'replies': {'kind': 'Listing', 'data': {'modhash': '', 'children': ['d9uwsnt'], 'after': None, 'before': None}}, 'user_reports': [], 'saved': False, 'id': 'd9uvled', 'gilded': 0, 'archived': False, 'report_reasons': None, 'author': 'ralpher313', 'parent_id': 't1_d9uv7ue', 'score': 1, 'approved_by': None, 'controversiality': 0, 'body': \"What I meant by that is that they usually tend to not react to facts and logic (if it doesn't confirm their views) and instead shout people down with insults and buzzwords. Should have made this more clear.\\n\\nThe main thing I oppose is the atmosphere of hostility that surrounds political discussion on the Internet.\", 'edited': False, 'author_flair_css_class': None, 'downs': 0, 'body_html': '<div class=\"md\"><p>What I meant by that is that they usually tend to not react to facts and logic (if it doesn&#39;t confirm their views) and instead shout people down with insults and buzzwords. Should have made this more clear.</p>\\n\\n<p>The main thing I oppose is the atmosphere of hostility that surrounds political discussion on the Internet.</p>\\n</div>', 'stickied': False, 'subreddit': 'changemyview', 'score_hidden': True, 'name': 't1_d9uvled', 'created': 1478840476.0, 'author_flair_text': None, 'created_utc': 1478811676.0, 'ups': 1, 'mod_reports': [], 'num_reports': None, 'distinguished': None}, {'subreddit_id': 't5_2w2s8', 'banned_by': None, 'removal_reason': None, 'link_id': 't3_5c8xdc', 'likes': None, 'replies': '', 'user_reports': [], 'saved': False, 'id': 'd9uwsnt', 'gilded': 0, 'archived': False, 'report_reasons': None, 'author': 'InsufficientOverkill', 'parent_id': 't1_d9uvled', 'score': 1, 'approved_by': None, 'controversiality': 0, 'body': \"Ah I see.\\n\\nYes, the hostility is definitely everywhere and I hate it as much as you do. But I don't think it's entirely inescapable, especially accounting for discussions between similarly-minded people and heavily moderated places like this sub.\", 'edited': False, 'author_flair_css_class': None, 'downs': 0, 'body_html': '<div class=\"md\"><p>Ah I see.</p>\\n\\n<p>Yes, the hostility is definitely everywhere and I hate it as much as you do. But I don&#39;t think it&#39;s entirely inescapable, especially accounting for discussions between similarly-minded people and heavily moderated places like this sub.</p>\\n</div>', 'stickied': False, 'subreddit': 'changemyview', 'score_hidden': True, 'name': 't1_d9uwsnt', 'created': 1478841900.0, 'author_flair_text': '1∆', 'created_utc': 1478813100.0, 'ups': 1, 'mod_reports': [], 'num_reports': None, 'distinguished': None}, {'subreddit_id': 't5_2w2s8', 'banned_by': None, 'removal_reason': None, 'link_id': 't3_5c8xdc', 'likes': None, 'replies': '', 'user_reports': [], 'saved': False, 'id': 'd9v7did', 'gilded': 0, 'archived': False, 'report_reasons': None, 'author': 'jello_sweaters', 'parent_id': 't3_5c8xdc', 'score': 1, 'approved_by': None, 'controversiality': 0, 'body': \"The fact that you've chosen to start a discussion in this sub would really seem to suggest otherwise.\", 'edited': False, 'author_flair_css_class': None, 'downs': 0, 'body_html': '<div class=\"md\"><p>The fact that you&#39;ve chosen to start a discussion in this sub would really seem to suggest otherwise.</p>\\n</div>', 'stickied': False, 'subreddit': 'changemyview', 'score_hidden': True, 'name': 't1_d9v7did', 'created': 1478855724.0, 'author_flair_text': '3∆', 'created_utc': 1478826924.0, 'ups': 1, 'mod_reports': [], 'num_reports': None, 'distinguished': None}, {'subreddit_id': 't5_2w2s8', 'banned_by': None, 'removal_reason': None, 'link_id': 't3_5c8xdc', 'likes': None, 'replies': {'kind': 'Listing', 'data': {'modhash': '', 'children': ['d9uqteo'], 'after': None, 'before': None}}, 'user_reports': [], 'saved': False, 'id': 'd9uqf01', 'gilded': 0, 'archived': False, 'report_reasons': None, 'author': 'eruthered', 'parent_id': 't3_5c8xdc', 'score': 1, 'approved_by': None, 'controversiality': 0, 'body': 'If you are taking responses to your post seriously, you should change your view. ', 'edited': False, 'author_flair_css_class': None, 'downs': 0, 'body_html': '<div class=\"md\"><p>If you are taking responses to your post seriously, you should change your view. </p>\\n</div>', 'stickied': False, 'subreddit': 'changemyview', 'score_hidden': True, 'name': 't1_d9uqf01', 'created': 1478834448.0, 'author_flair_text': '1∆', 'created_utc': 1478805648.0, 'ups': 1, 'mod_reports': [], 'num_reports': None, 'distinguished': None}, {'subreddit_id': 't5_2w2s8', 'banned_by': None, 'removal_reason': None, 'link_id': 't3_5c8xdc', 'likes': None, 'replies': {'kind': 'Listing', 'data': {'modhash': '', 'children': ['d9us1s0'], 'after': None, 'before': None}}, 'user_reports': [], 'saved': False, 'id': 'd9uqteo', 'gilded': 0, 'archived': False, 'report_reasons': None, 'author': 'ralpher313', 'parent_id': 't1_d9uqf01', 'score': 1, 'approved_by': None, 'controversiality': 0, 'body': \"Well, it has been changed. That's why I gave /u/Ansuz07 a delta.\", 'edited': False, 'author_flair_css_class': None, 'downs': 0, 'body_html': '<div class=\"md\"><p>Well, it has been changed. That&#39;s why I gave <a href=\"/u/Ansuz07\">/u/Ansuz07</a> a delta.</p>\\n</div>', 'stickied': False, 'subreddit': 'changemyview', 'score_hidden': True, 'name': 't1_d9uqteo', 'created': 1478834907.0, 'author_flair_text': None, 'created_utc': 1478806107.0, 'ups': 1, 'mod_reports': [], 'num_reports': None, 'distinguished': None}, {'subreddit_id': 't5_2w2s8', 'banned_by': None, 'removal_reason': None, 'link_id': 't3_5c8xdc', 'likes': None, 'replies': '', 'user_reports': [], 'saved': False, 'id': 'd9us1s0', 'gilded': 0, 'archived': False, 'report_reasons': None, 'author': 'eruthered', 'parent_id': 't1_d9uqteo', 'score': 1, 'approved_by': None, 'controversiality': 0, 'body': \"Ok. The delta wasn't there when I posted. \", 'edited': False, 'author_flair_css_class': None, 'downs': 0, 'body_html': '<div class=\"md\"><p>Ok. The delta wasn&#39;t there when I posted. </p>\\n</div>', 'stickied': False, 'subreddit': 'changemyview', 'score_hidden': True, 'name': 't1_d9us1s0', 'created': 1478836342.0, 'author_flair_text': '1∆', 'created_utc': 1478807542.0, 'ups': 1, 'mod_reports': [], 'num_reports': None, 'distinguished': None}], 'name': 't3_5c8xdc', 'score': 14, 'approved_by': None, 'over_18': False, 'hidden': False, 'thumbnail': '', 'subreddit_id': 't5_2w2s8', 'edited': False, 'link_flair_css_class': 'OPdelta', 'author_flair_css_class': None, 'downs': 0, 'mod_reports': [], 'archived': False, 'removal_reason': None, 'is_self': True, 'hide_score': False, 'spoiler': False, 'permalink': '/r/changemyview/comments/5c8xdc/cmv_the_current_state_of_political_discussion/?ref=search_posts', 'locked': False, 'stickied': False, 'created': 1478826205.0, 'url': 'https://www.reddit.com/r/changemyview/comments/5c8xdc/cmv_the_current_state_of_political_discussion/', 'author_flair_text': None, 'quarantine': False, 'title': 'CMV: The current state of political discussion makes it pointless to seriously discuss politics on the Internet.', 'created_utc': 1478797405.0, 'link_flair_text': '[∆(s) from OP]', 'distinguished': None, 'num_comments': 20, 'visited': False, 'num_reports': None, 'ups': 14}\n"
     ]
    }
   ],
   "source": [
    "for line in f:\n",
    "    l = json.loads(line.decode('utf-8'))\n",
    "    print(l)\n",
    "    break"
   ]
  },
  {
   "cell_type": "markdown",
   "metadata": {
    "collapsed": true,
    "deletable": true,
    "editable": true
   },
   "source": [
    "The authors have released some [code](https://vene.ro/blog/winning-arguments-attitude-change-reddit-cmv.html) that we can use to better vizualize the textual data:"
   ]
  },
  {
   "cell_type": "code",
   "execution_count": 68,
   "metadata": {
    "collapsed": true,
    "deletable": true,
    "editable": true
   },
   "outputs": [],
   "source": [
    "from IPython.display import Markdown\n",
    "\n",
    "def show_post(cmv_post):\n",
    "    md_format = \"**{title}** \\n\\n {selftext}\".format(**cmv_post)\n",
    "    md_format = \"\\n\".join([\"> \" + line for line in md_format.splitlines()])\n",
    "    return Markdown(md_format)"
   ]
  },
  {
   "cell_type": "code",
   "execution_count": 69,
   "metadata": {
    "collapsed": false,
    "deletable": true,
    "editable": true
   },
   "outputs": [
    {
     "data": {
      "text/markdown": [
       "> **CMV: The current state of political discussion makes it pointless to seriously discuss politics on the Internet.** \n",
       "> \n",
       ">  I have to say that I am very disappointed with the current state of political discourse in today's society. Both in mass media and the Internet, political discussion seems to be ruled by angry extremists who think that the other side is evil and shout down, insult and in some case censor anyone who doesn't think so. Many times over I've dealt with those types of people (both from the left and the right) only to find out that reason and logic rarely, if ever work on them. Their extreme views also focus a lot of outrage (sometimes from other extremists), often derailing the discussion from the original topic.\n",
       "> \n",
       "> So I have a question: Do you guys this can be fixed? Or is this just [the GIFT in practise?](http://fishbowl.pastiche.org/archives/pictures/greater_internet_fuckwad_theory.jpg)\n",
       "> _____\n",
       "> \n",
       "> > *Hello, users of CMV! This is a footnote from your moderators. We'd just like to remind you of a couple of things. Firstly, please remember to* ***[read through our rules](http://www.reddit.com/r/changemyview/wiki/rules)***. *If you see a comment that has broken one, it is more effective to report it than downvote it. Speaking of which,* ***[downvotes don't change views](http://www.reddit.com/r/changemyview/wiki/guidelines#wiki_upvoting.2Fdownvoting)****! If you are thinking about submitting a CMV yourself, please have a look through our* ***[popular topics wiki](http://www.reddit.com/r/changemyview/wiki/populartopics)*** *first. Any questions or concerns? Feel free to* ***[message us](http://www.reddit.com/message/compose?to=/r/changemyview)***. *Happy CMVing!*"
      ],
      "text/plain": [
       "<IPython.core.display.Markdown object>"
      ]
     },
     "execution_count": 69,
     "metadata": {},
     "output_type": "execute_result"
    }
   ],
   "source": [
    "show_post(l)"
   ]
  },
  {
   "cell_type": "code",
   "execution_count": 70,
   "metadata": {
    "collapsed": false,
    "deletable": true,
    "editable": true
   },
   "outputs": [
    {
     "data": {
      "text/plain": [
       "dict_keys(['contest_mode', 'suggested_sort', 'banned_by', 'media_embed', 'subreddit', 'selftext_html', 'selftext', 'likes', 'domain', 'user_reports', 'secure_media', 'saved', 'id', 'gilded', 'secure_media_embed', 'clicked', 'report_reasons', 'author', 'media', 'comments', 'name', 'score', 'approved_by', 'over_18', 'hidden', 'thumbnail', 'subreddit_id', 'edited', 'link_flair_css_class', 'author_flair_css_class', 'downs', 'mod_reports', 'archived', 'removal_reason', 'is_self', 'hide_score', 'spoiler', 'permalink', 'locked', 'stickied', 'created', 'url', 'author_flair_text', 'quarantine', 'title', 'created_utc', 'link_flair_text', 'distinguished', 'num_comments', 'visited', 'num_reports', 'ups'])"
      ]
     },
     "execution_count": 70,
     "metadata": {},
     "output_type": "execute_result"
    }
   ],
   "source": [
    "l.keys()"
   ]
  },
  {
   "cell_type": "code",
   "execution_count": 71,
   "metadata": {
    "collapsed": false,
    "deletable": true,
    "editable": true
   },
   "outputs": [
    {
     "data": {
      "text/plain": [
       "\"I have to say that I am very disappointed with the current state of political discourse in today's society. Both in mass media and the Internet, political discussion seems to be ruled by angry extremists who think that the other side is evil and shout down, insult and in some case censor anyone who doesn't think so. Many times over I've dealt with those types of people (both from the left and the right) only to find out that reason and logic rarely, if ever work on them. Their extreme views also focus a lot of outrage (sometimes from other extremists), often derailing the discussion from the original topic.\\n\\nSo I have a question: Do you guys this can be fixed? Or is this just [the GIFT in practise?](http://fishbowl.pastiche.org/archives/pictures/greater_internet_fuckwad_theory.jpg)\\n_____\\n\\n> *Hello, users of CMV! This is a footnote from your moderators. We'd just like to remind you of a couple of things. Firstly, please remember to* ***[read through our rules](http://www.reddit.com/r/changemyview/wiki/rules)***. *If you see a comment that has broken one, it is more effective to report it than downvote it. Speaking of which,* ***[downvotes don't change views](http://www.reddit.com/r/changemyview/wiki/guidelines#wiki_upvoting.2Fdownvoting)****! If you are thinking about submitting a CMV yourself, please have a look through our* ***[popular topics wiki](http://www.reddit.com/r/changemyview/wiki/populartopics)*** *first. Any questions or concerns? Feel free to* ***[message us](http://www.reddit.com/message/compose?to=/r/changemyview)***. *Happy CMVing!*\""
      ]
     },
     "execution_count": 71,
     "metadata": {},
     "output_type": "execute_result"
    }
   ],
   "source": [
    "l['selftext']"
   ]
  },
  {
   "cell_type": "code",
   "execution_count": 72,
   "metadata": {
    "collapsed": false,
    "deletable": true,
    "editable": true
   },
   "outputs": [
    {
     "data": {
      "text/plain": [
       "'CMV: The current state of political discussion makes it pointless to seriously discuss politics on the Internet.'"
      ]
     },
     "execution_count": 72,
     "metadata": {},
     "output_type": "execute_result"
    }
   ],
   "source": [
    "l['title']"
   ]
  },
  {
   "cell_type": "code",
   "execution_count": 73,
   "metadata": {
    "collapsed": false,
    "deletable": true,
    "editable": true
   },
   "outputs": [
    {
     "data": {
      "text/plain": [
       "'t3_5c8xdc'"
      ]
     },
     "execution_count": 73,
     "metadata": {},
     "output_type": "execute_result"
    }
   ],
   "source": [
    "l['name']"
   ]
  },
  {
   "cell_type": "code",
   "execution_count": 74,
   "metadata": {
    "collapsed": false,
    "deletable": true,
    "editable": true
   },
   "outputs": [
    {
     "data": {
      "text/plain": [
       "'ralpher313'"
      ]
     },
     "execution_count": 74,
     "metadata": {},
     "output_type": "execute_result"
    }
   ],
   "source": [
    "l['author']"
   ]
  },
  {
   "cell_type": "code",
   "execution_count": 75,
   "metadata": {
    "collapsed": false,
    "deletable": true,
    "editable": true
   },
   "outputs": [
    {
     "data": {
      "text/plain": [
       "'5c8xdc'"
      ]
     },
     "execution_count": 75,
     "metadata": {},
     "output_type": "execute_result"
    }
   ],
   "source": [
    "l['id']"
   ]
  },
  {
   "cell_type": "code",
   "execution_count": 76,
   "metadata": {
    "collapsed": false,
    "deletable": true,
    "editable": true
   },
   "outputs": [
    {
     "data": {
      "text/plain": [
       "1478826205.0"
      ]
     },
     "execution_count": 76,
     "metadata": {},
     "output_type": "execute_result"
    }
   ],
   "source": [
    "l['created']"
   ]
  },
  {
   "cell_type": "code",
   "execution_count": 77,
   "metadata": {
    "collapsed": false,
    "deletable": true,
    "editable": true
   },
   "outputs": [
    {
     "data": {
      "text/plain": [
       "'https://www.reddit.com/r/changemyview/comments/5c8xdc/cmv_the_current_state_of_political_discussion/'"
      ]
     },
     "execution_count": 77,
     "metadata": {},
     "output_type": "execute_result"
    }
   ],
   "source": [
    "l['url']"
   ]
  },
  {
   "cell_type": "markdown",
   "metadata": {
    "deletable": true,
    "editable": true
   },
   "source": [
    "Now to also inspect the comments:"
   ]
  },
  {
   "cell_type": "code",
   "execution_count": 94,
   "metadata": {
    "collapsed": false,
    "deletable": true,
    "editable": true
   },
   "outputs": [
    {
     "data": {
      "text/plain": [
       "{'approved_by': None,\n",
       " 'archived': False,\n",
       " 'author': 'ralpher313',\n",
       " 'author_flair_css_class': None,\n",
       " 'author_flair_text': None,\n",
       " 'banned_by': None,\n",
       " 'body': \"Yes, but it seems like this can't be achieved without heavy moderation. We shouldn't need mods to not fling shit at other people.\",\n",
       " 'body_html': '<div class=\"md\"><p>Yes, but it seems like this can&#39;t be achieved without heavy moderation. We shouldn&#39;t need mods to not fling shit at other people.</p>\\n</div>',\n",
       " 'controversiality': 0,\n",
       " 'created': 1478826860.0,\n",
       " 'created_utc': 1478798060.0,\n",
       " 'distinguished': None,\n",
       " 'downs': 0,\n",
       " 'edited': False,\n",
       " 'gilded': 0,\n",
       " 'id': 'd9ujt0e',\n",
       " 'likes': None,\n",
       " 'link_id': 't3_5c8xdc',\n",
       " 'mod_reports': [],\n",
       " 'name': 't1_d9ujt0e',\n",
       " 'num_reports': None,\n",
       " 'parent_id': 't1_d9ujmbi',\n",
       " 'removal_reason': None,\n",
       " 'replies': {'data': {'after': None,\n",
       "   'before': None,\n",
       "   'children': ['d9ujw71'],\n",
       "   'modhash': ''},\n",
       "  'kind': 'Listing'},\n",
       " 'report_reasons': None,\n",
       " 'saved': False,\n",
       " 'score': 1,\n",
       " 'score_hidden': True,\n",
       " 'stickied': False,\n",
       " 'subreddit': 'changemyview',\n",
       " 'subreddit_id': 't5_2w2s8',\n",
       " 'ups': 1,\n",
       " 'user_reports': []}"
      ]
     },
     "execution_count": 94,
     "metadata": {},
     "output_type": "execute_result"
    }
   ],
   "source": [
    "l['comments'][2]"
   ]
  },
  {
   "cell_type": "code",
   "execution_count": 78,
   "metadata": {
    "collapsed": false,
    "deletable": true,
    "editable": true
   },
   "outputs": [
    {
     "data": {
      "text/plain": [
       "dict_keys(['subreddit_id', 'banned_by', 'removal_reason', 'link_id', 'likes', 'replies', 'user_reports', 'saved', 'id', 'gilded', 'archived', 'report_reasons', 'author', 'parent_id', 'score', 'approved_by', 'controversiality', 'body', 'edited', 'author_flair_css_class', 'downs', 'body_html', 'stickied', 'subreddit', 'score_hidden', 'name', 'created', 'author_flair_text', 'created_utc', 'ups', 'mod_reports', 'num_reports', 'distinguished'])"
      ]
     },
     "execution_count": 78,
     "metadata": {},
     "output_type": "execute_result"
    }
   ],
   "source": [
    "l['comments'][0].keys()"
   ]
  },
  {
   "cell_type": "code",
   "execution_count": 103,
   "metadata": {
    "collapsed": false,
    "deletable": true,
    "editable": true
   },
   "outputs": [
    {
     "name": "stdout",
     "output_type": "stream",
     "text": [
      "Ansuz07\n",
      "1478826647.0\n",
      "I would offer this very sub as a counterpoint - throughout this election we have had very civil, well informed discussions about both candidates (albeit more democratic leaning just due to Reddit's natural demographics).  Vitriolic discussion has been shut down by the mod team and only level headed discussion allowed to remain.\n",
      "\n",
      "The internet allows for echo-chamber discussions to be certain, but its not _impossible_ to find civil discourse on the internet.  It just takes communities like this one who commit to that ideal and this can and does happen.\n",
      "\n",
      "\n",
      "{'subreddit_id': 't5_2w2s8', 'banned_by': None, 'removal_reason': None, 'link_id': 't3_5c8xdc', 'likes': None, 'replies': {'kind': 'Listing', 'data': {'modhash': '', 'children': ['d9ujt0e', 'd9ujrsj'], 'after': None, 'before': None}}, 'user_reports': [], 'saved': False, 'id': 'd9ujmbi', 'gilded': 0, 'archived': False, 'report_reasons': None, 'author': 'Ansuz07', 'parent_id': 't3_5c8xdc', 'score': 1, 'approved_by': None, 'controversiality': 0, 'body': \"I would offer this very sub as a counterpoint - throughout this election we have had very civil, well informed discussions about both candidates (albeit more democratic leaning just due to Reddit's natural demographics).  Vitriolic discussion has been shut down by the mod team and only level headed discussion allowed to remain.\\n\\nThe internet allows for echo-chamber discussions to be certain, but its not _impossible_ to find civil discourse on the internet.  It just takes communities like this one who commit to that ideal and this can and does happen.\", 'edited': False, 'author_flair_css_class': None, 'downs': 0, 'body_html': '<div class=\"md\"><p>I would offer this very sub as a counterpoint - throughout this election we have had very civil, well informed discussions about both candidates (albeit more democratic leaning just due to Reddit&#39;s natural demographics).  Vitriolic discussion has been shut down by the mod team and only level headed discussion allowed to remain.</p>\\n\\n<p>The internet allows for echo-chamber discussions to be certain, but its not <em>impossible</em> to find civil discourse on the internet.  It just takes communities like this one who commit to that ideal and this can and does happen.</p>\\n</div>', 'stickied': False, 'subreddit': 'changemyview', 'score_hidden': True, 'name': 't1_d9ujmbi', 'created': 1478826647.0, 'author_flair_text': '75∆', 'created_utc': 1478797847.0, 'ups': 1, 'mod_reports': [], 'num_reports': None, 'distinguished': None}\n",
      "ralpher313\n",
      "1478826860.0\n",
      "Yes, but it seems like this can't be achieved without heavy moderation. We shouldn't need mods to not fling shit at other people.\n",
      "\n",
      "\n",
      "{'subreddit_id': 't5_2w2s8', 'banned_by': None, 'removal_reason': None, 'link_id': 't3_5c8xdc', 'likes': None, 'replies': {'kind': 'Listing', 'data': {'modhash': '', 'children': ['d9ujw71'], 'after': None, 'before': None}}, 'user_reports': [], 'saved': False, 'id': 'd9ujt0e', 'gilded': 0, 'archived': False, 'report_reasons': None, 'author': 'ralpher313', 'parent_id': 't1_d9ujmbi', 'score': 1, 'approved_by': None, 'controversiality': 0, 'body': \"Yes, but it seems like this can't be achieved without heavy moderation. We shouldn't need mods to not fling shit at other people.\", 'edited': False, 'author_flair_css_class': None, 'downs': 0, 'body_html': '<div class=\"md\"><p>Yes, but it seems like this can&#39;t be achieved without heavy moderation. We shouldn&#39;t need mods to not fling shit at other people.</p>\\n</div>', 'stickied': False, 'subreddit': 'changemyview', 'score_hidden': True, 'name': 't1_d9ujt0e', 'created': 1478826860.0, 'author_flair_text': None, 'created_utc': 1478798060.0, 'ups': 1, 'mod_reports': [], 'num_reports': None, 'distinguished': None}\n",
      "Ansuz07\n",
      "1478826963.0\n",
      "That doesn't mean that you can't have a meaningful discussion.  We have a place where the rules call for civility and the rules are enforced.  That allows for the very thing here that you claim can't occur.\n",
      "\n",
      "\n",
      "{'subreddit_id': 't5_2w2s8', 'banned_by': None, 'removal_reason': None, 'link_id': 't3_5c8xdc', 'likes': None, 'replies': {'kind': 'Listing', 'data': {'modhash': '', 'children': ['d9uk2bm'], 'after': None, 'before': None}}, 'user_reports': [], 'saved': False, 'id': 'd9ujw71', 'gilded': 0, 'archived': False, 'report_reasons': None, 'author': 'Ansuz07', 'parent_id': 't1_d9ujt0e', 'score': 1, 'approved_by': None, 'controversiality': 0, 'body': \"That doesn't mean that you can't have a meaningful discussion.  We have a place where the rules call for civility and the rules are enforced.  That allows for the very thing here that you claim can't occur.\", 'edited': False, 'author_flair_css_class': None, 'downs': 0, 'body_html': '<div class=\"md\"><p>That doesn&#39;t mean that you can&#39;t have a meaningful discussion.  We have a place where the rules call for civility and the rules are enforced.  That allows for the very thing here that you claim can&#39;t occur.</p>\\n</div>', 'stickied': False, 'subreddit': 'changemyview', 'score_hidden': True, 'name': 't1_d9ujw71', 'created': 1478826963.0, 'author_flair_text': '75∆', 'created_utc': 1478798163.0, 'ups': 1, 'mod_reports': [], 'num_reports': None, 'distinguished': None}\n",
      "ralpher313\n",
      "1478827155.0\n",
      "I didn't said that it can't occur, it just seems to me that way. Or maybe this election has left me VERY worn out with politics and I've just started noticing this more.\n",
      "\n",
      "∆\n",
      "\n",
      "Also, kinda off-topic, but don't know where else to ask this:\n",
      "\n",
      "What should I do when I'm REALLY fucking sick of politics?\n",
      "\n",
      "\n",
      "\n",
      "{'subreddit_id': 't5_2w2s8', 'banned_by': None, 'removal_reason': None, 'link_id': 't3_5c8xdc', 'likes': None, 'replies': {'kind': 'Listing', 'data': {'modhash': '', 'children': ['d9uk2zz', 'd9ukulr', 'd9uk6m0', 'd9ukuqd'], 'after': None, 'before': None}}, 'user_reports': [], 'saved': False, 'id': 'd9uk2bm', 'gilded': 0, 'archived': False, 'report_reasons': None, 'author': 'ralpher313', 'parent_id': 't1_d9ujw71', 'score': 1, 'approved_by': None, 'controversiality': 0, 'body': \"I didn't said that it can't occur, it just seems to me that way. Or maybe this election has left me VERY worn out with politics and I've just started noticing this more.\\n\\n∆\\n\\nAlso, kinda off-topic, but don't know where else to ask this:\\n\\nWhat should I do when I'm REALLY fucking sick of politics?\\n\", 'edited': False, 'author_flair_css_class': None, 'downs': 0, 'body_html': '<div class=\"md\"><p>I didn&#39;t said that it can&#39;t occur, it just seems to me that way. Or maybe this election has left me VERY worn out with politics and I&#39;ve just started noticing this more.</p>\\n\\n<p>∆</p>\\n\\n<p>Also, kinda off-topic, but don&#39;t know where else to ask this:</p>\\n\\n<p>What should I do when I&#39;m REALLY fucking sick of politics?</p>\\n</div>', 'stickied': False, 'subreddit': 'changemyview', 'score_hidden': True, 'name': 't1_d9uk2bm', 'created': 1478827155.0, 'author_flair_text': None, 'created_utc': 1478798355.0, 'ups': 1, 'mod_reports': [], 'num_reports': None, 'distinguished': None}\n",
      "Krieg-The-Psycho1\n",
      "1478828050.0\n",
      "Practice a hobby when you are sick of politics. I would personally recommend something physical that can pay for itself.\n",
      "\n",
      "\n",
      "{'subreddit_id': 't5_2w2s8', 'banned_by': None, 'removal_reason': None, 'link_id': 't3_5c8xdc', 'likes': None, 'replies': '', 'user_reports': [], 'saved': False, 'id': 'd9ukuqd', 'gilded': 0, 'archived': False, 'report_reasons': None, 'author': 'Krieg-The-Psycho1', 'parent_id': 't1_d9uk2bm', 'score': 1, 'approved_by': None, 'controversiality': 0, 'body': 'Practice a hobby when you are sick of politics. I would personally recommend something physical that can pay for itself.', 'edited': False, 'author_flair_css_class': None, 'downs': 0, 'body_html': '<div class=\"md\"><p>Practice a hobby when you are sick of politics. I would personally recommend something physical that can pay for itself.</p>\\n</div>', 'stickied': False, 'subreddit': 'changemyview', 'score_hidden': True, 'name': 't1_d9ukuqd', 'created': 1478828050.0, 'author_flair_text': '7∆', 'created_utc': 1478799250.0, 'ups': 1, 'mod_reports': [], 'num_reports': None, 'distinguished': None}\n",
      "Ansuz07\n",
      "1478827292.0\n",
      "This election has certianly been very polarizing and has lead to more extremist people voicing their views - that much is true.\n",
      "\n",
      "I'd still argue that there are many of us who have carved out places where such speech is not tolerated.  All views are welcome here, so long as they are civil and well reasoned.\n",
      "\n",
      "\n",
      "{'subreddit_id': 't5_2w2s8', 'banned_by': None, 'removal_reason': None, 'link_id': 't3_5c8xdc', 'likes': None, 'replies': {'kind': 'Listing', 'data': {'modhash': '', 'children': ['d9ukg11', 'd9v5811'], 'after': None, 'before': None}}, 'user_reports': [], 'saved': False, 'id': 'd9uk6m0', 'gilded': 0, 'archived': False, 'report_reasons': None, 'author': 'Ansuz07', 'parent_id': 't1_d9uk2bm', 'score': 1, 'approved_by': None, 'controversiality': 0, 'body': \"This election has certianly been very polarizing and has lead to more extremist people voicing their views - that much is true.\\n\\nI'd still argue that there are many of us who have carved out places where such speech is not tolerated.  All views are welcome here, so long as they are civil and well reasoned.\", 'edited': False, 'author_flair_css_class': None, 'downs': 0, 'body_html': '<div class=\"md\"><p>This election has certianly been very polarizing and has lead to more extremist people voicing their views - that much is true.</p>\\n\\n<p>I&#39;d still argue that there are many of us who have carved out places where such speech is not tolerated.  All views are welcome here, so long as they are civil and well reasoned.</p>\\n</div>', 'stickied': False, 'subreddit': 'changemyview', 'score_hidden': True, 'name': 't1_d9uk6m0', 'created': 1478827292.0, 'author_flair_text': '75∆', 'created_utc': 1478798492.0, 'ups': 1, 'mod_reports': [], 'num_reports': None, 'distinguished': None}\n",
      "ralpher313\n",
      "1478827588.0\n",
      "Well, I'm happy to know that, and I'm certainly gonna visit this sub more often, if that's the case.\n",
      "\n",
      "It just baffles me that SO many people all across the Internet spend SO much time focusing their attention and devoting their free time to things that they don't like and outrages them. I mean, do so many people have nothing else to do, or shitty enough lives that this is their only outlet for rage?\n",
      "\n",
      "\n",
      "{'subreddit_id': 't5_2w2s8', 'banned_by': None, 'removal_reason': None, 'link_id': 't3_5c8xdc', 'likes': None, 'replies': {'kind': 'Listing', 'data': {'modhash': '', 'children': ['d9ukl5h'], 'after': None, 'before': None}}, 'user_reports': [], 'saved': False, 'id': 'd9ukg11', 'gilded': 0, 'archived': False, 'report_reasons': None, 'author': 'ralpher313', 'parent_id': 't1_d9uk6m0', 'score': 1, 'approved_by': None, 'controversiality': 0, 'body': \"Well, I'm happy to know that, and I'm certainly gonna visit this sub more often, if that's the case.\\n\\nIt just baffles me that SO many people all across the Internet spend SO much time focusing their attention and devoting their free time to things that they don't like and outrages them. I mean, do so many people have nothing else to do, or shitty enough lives that this is their only outlet for rage?\", 'edited': False, 'author_flair_css_class': None, 'downs': 0, 'body_html': '<div class=\"md\"><p>Well, I&#39;m happy to know that, and I&#39;m certainly gonna visit this sub more often, if that&#39;s the case.</p>\\n\\n<p>It just baffles me that SO many people all across the Internet spend SO much time focusing their attention and devoting their free time to things that they don&#39;t like and outrages them. I mean, do so many people have nothing else to do, or shitty enough lives that this is their only outlet for rage?</p>\\n</div>', 'stickied': False, 'subreddit': 'changemyview', 'score_hidden': True, 'name': 't1_d9ukg11', 'created': 1478827588.0, 'author_flair_text': None, 'created_utc': 1478798788.0, 'ups': 1, 'mod_reports': [], 'num_reports': None, 'distinguished': None}\n",
      "Ansuz07\n",
      "1478827749.0\n",
      "People have always done this - men would get together in clubs or lodges and talk or women would have their sewing groups.  The difference is just that their conversations are public and anonymous now, so there is no barrier to knowing what they _really_ think.\n",
      "\n",
      "\n",
      "{'subreddit_id': 't5_2w2s8', 'banned_by': None, 'removal_reason': None, 'link_id': 't3_5c8xdc', 'likes': None, 'replies': {'kind': 'Listing', 'data': {'modhash': '', 'children': ['d9ukq9m'], 'after': None, 'before': None}}, 'user_reports': [], 'saved': False, 'id': 'd9ukl5h', 'gilded': 0, 'archived': False, 'report_reasons': None, 'author': 'Ansuz07', 'parent_id': 't1_d9ukg11', 'score': 1, 'approved_by': None, 'controversiality': 0, 'body': 'People have always done this - men would get together in clubs or lodges and talk or women would have their sewing groups.  The difference is just that their conversations are public and anonymous now, so there is no barrier to knowing what they _really_ think.', 'edited': False, 'author_flair_css_class': None, 'downs': 0, 'body_html': '<div class=\"md\"><p>People have always done this - men would get together in clubs or lodges and talk or women would have their sewing groups.  The difference is just that their conversations are public and anonymous now, so there is no barrier to knowing what they <em>really</em> think.</p>\\n</div>', 'stickied': False, 'subreddit': 'changemyview', 'score_hidden': True, 'name': 't1_d9ukl5h', 'created': 1478827749.0, 'author_flair_text': '75∆', 'created_utc': 1478798949.0, 'ups': 1, 'mod_reports': [], 'num_reports': None, 'distinguished': None}\n",
      "ralpher313\n",
      "1478827909.0\n",
      "I suppose you're right.\n",
      "\n",
      "What a weird little thing, our world is.\n",
      "\n",
      "\n",
      "{'subreddit_id': 't5_2w2s8', 'banned_by': None, 'removal_reason': None, 'link_id': 't3_5c8xdc', 'likes': None, 'replies': '', 'user_reports': [], 'saved': False, 'id': 'd9ukq9m', 'gilded': 0, 'archived': False, 'report_reasons': None, 'author': 'ralpher313', 'parent_id': 't1_d9ukl5h', 'score': 1, 'approved_by': None, 'controversiality': 0, 'body': \"I suppose you're right.\\n\\nWhat a weird little thing, our world is.\", 'edited': False, 'author_flair_css_class': None, 'downs': 0, 'body_html': '<div class=\"md\"><p>I suppose you&#39;re right.</p>\\n\\n<p>What a weird little thing, our world is.</p>\\n</div>', 'stickied': False, 'subreddit': 'changemyview', 'score_hidden': True, 'name': 't1_d9ukq9m', 'created': 1478827909.0, 'author_flair_text': None, 'created_utc': 1478799109.0, 'ups': 1, 'mod_reports': [], 'num_reports': None, 'distinguished': None}\n",
      "______NSA______\n",
      "1478828046.0\n",
      "if you want a different kind of fight, you could check out r/whowouldwin. Its very well moderated and incredible well mannered considering it often comes down to fanboys arguing.\n",
      "\n",
      "Or you could go outside. Turn off the TV and put down the phone. Often it's the best way to clear my head and remind me that the world is still sane and the sun will still rise. \n",
      "\n",
      "\n",
      "{'subreddit_id': 't5_2w2s8', 'banned_by': None, 'removal_reason': None, 'link_id': 't3_5c8xdc', 'likes': None, 'replies': '', 'user_reports': [], 'saved': False, 'id': 'd9ukulr', 'gilded': 0, 'archived': False, 'report_reasons': None, 'author': '______NSA______', 'parent_id': 't1_d9uk2bm', 'score': 1, 'approved_by': None, 'controversiality': 0, 'body': \"if you want a different kind of fight, you could check out r/whowouldwin. Its very well moderated and incredible well mannered considering it often comes down to fanboys arguing.\\n\\nOr you could go outside. Turn off the TV and put down the phone. Often it's the best way to clear my head and remind me that the world is still sane and the sun will still rise. \", 'edited': False, 'author_flair_css_class': None, 'downs': 0, 'body_html': '<div class=\"md\"><p>if you want a different kind of fight, you could check out <a href=\"/r/whowouldwin\">r/whowouldwin</a>. Its very well moderated and incredible well mannered considering it often comes down to fanboys arguing.</p>\\n\\n<p>Or you could go outside. Turn off the TV and put down the phone. Often it&#39;s the best way to clear my head and remind me that the world is still sane and the sun will still rise. </p>\\n</div>', 'stickied': False, 'subreddit': 'changemyview', 'score_hidden': True, 'name': 't1_d9ukulr', 'created': 1478828046.0, 'author_flair_text': '1∆', 'created_utc': 1478799246.0, 'ups': 1, 'mod_reports': [], 'num_reports': None, 'distinguished': None}\n",
      "DeltaBot\n",
      "1478827176.0\n",
      "Confirmed: 1 delta awarded to /u/Ansuz07 ([75∆](/r/changemyview/wiki/user/Ansuz07)).\n",
      "\n",
      "^[Delta System Explained](https://www.reddit.com/r/changemyview/wiki/deltasystem) ^| ^[Deltaboards](https://www.reddit.com/r/changemyview/wiki/deltaboards)\n",
      "[​](HTTP://DB3PARAMSSTART\n",
      "{\n",
      "  \"comment\": \"This is hidden text for DB3 to parse. Please contact the author of DB3 if you see this\",\n",
      "  \"issues\": {},\n",
      "  \"parentUserName\": \"Ansuz07\"\n",
      "}\n",
      "DB3PARAMSEND)\n",
      "\n",
      "\n",
      "{'subreddit_id': 't5_2w2s8', 'banned_by': None, 'removal_reason': None, 'link_id': 't3_5c8xdc', 'likes': None, 'replies': '', 'user_reports': [], 'saved': False, 'id': 'd9uk2zz', 'gilded': 0, 'archived': False, 'report_reasons': None, 'author': 'DeltaBot', 'parent_id': 't1_d9uk2bm', 'score': 1, 'approved_by': None, 'controversiality': 0, 'body': 'Confirmed: 1 delta awarded to /u/Ansuz07 ([75∆](/r/changemyview/wiki/user/Ansuz07)).\\n\\n^[Delta\\xa0System\\xa0Explained](https://www.reddit.com/r/changemyview/wiki/deltasystem) ^| ^[Deltaboards](https://www.reddit.com/r/changemyview/wiki/deltaboards)\\n[\\u200b](HTTP://DB3PARAMSSTART\\n{\\n  \"comment\": \"This is hidden text for DB3 to parse. Please contact the author of DB3 if you see this\",\\n  \"issues\": {},\\n  \"parentUserName\": \"Ansuz07\"\\n}\\nDB3PARAMSEND)', 'edited': False, 'author_flair_css_class': 'points', 'downs': 0, 'body_html': '<div class=\"md\"><p>Confirmed: 1 delta awarded to <a href=\"/u/Ansuz07\">/u/Ansuz07</a> (<a href=\"/r/changemyview/wiki/user/Ansuz07\">75∆</a>).</p>\\n\\n<p><sup><a href=\"https://www.reddit.com/r/changemyview/wiki/deltasystem\">Delta\\xa0System\\xa0Explained</a></sup> <sup>|</sup> <sup><a href=\"https://www.reddit.com/r/changemyview/wiki/deltaboards\">Deltaboards</a></sup>\\n<a href=\"HTTP://DB3PARAMSSTART%0A%7B%0A%20%20%22comment%22:%20%22This%20is%20hidden%20text%20for%20DB3%20to%20parse.%20Please%20contact%20the%20author%20of%20DB3%20if%20you%20see%20this%22,%0A%20%20%22issues%22:%20%7B%7D,%0A%20%20%22parentUserName%22:%20%22Ansuz07%22%0A%7D%0ADB3PARAMSEND\">\\u200b</a></p>\\n</div>', 'stickied': False, 'subreddit': 'changemyview', 'score_hidden': True, 'name': 't1_d9uk2zz', 'created': 1478827176.0, 'author_flair_text': '∞∆', 'created_utc': 1478798376.0, 'ups': 1, 'mod_reports': [], 'num_reports': None, 'distinguished': 'moderator'}\n",
      "InsufficientOverkill\n",
      "1478840037.0\n",
      "I think you may have a limited vision of meaningful serious discussion. If you find that \"reason and logic rarely, if ever *work on them*\" that suggests that you are unsatisfied with a discussion unless you notice your arguments impacting their views. If the you're mainly interested in debates that end in agreement, then political discussions, whether online or in person, will always feel pointless. Plus, it's still possible to have a productive discussion between two people with similar political leanings: discussions can clarify views, check facts, etc., not just change minds.\n",
      "\n",
      "But other than that, I think you underestimate the number of people online who share your frustrations and are open to discussing more nuanced views. If you seek out moderate spaces like this sub, and lead by example with a reasonable tone, it is absolutely possible, although frustrating, to wade through all the extremist crap and have a good discussion. \n",
      "\n",
      "\n",
      "{'subreddit_id': 't5_2w2s8', 'banned_by': None, 'removal_reason': None, 'link_id': 't3_5c8xdc', 'likes': None, 'replies': {'kind': 'Listing', 'data': {'modhash': '', 'children': ['d9uvled'], 'after': None, 'before': None}}, 'user_reports': [], 'saved': False, 'id': 'd9uv7ue', 'gilded': 0, 'archived': False, 'report_reasons': None, 'author': 'InsufficientOverkill', 'parent_id': 't3_5c8xdc', 'score': 1, 'approved_by': None, 'controversiality': 0, 'body': 'I think you may have a limited vision of meaningful serious discussion. If you find that \"reason and logic rarely, if ever *work on them*\" that suggests that you are unsatisfied with a discussion unless you notice your arguments impacting their views. If the you\\'re mainly interested in debates that end in agreement, then political discussions, whether online or in person, will always feel pointless. Plus, it\\'s still possible to have a productive discussion between two people with similar political leanings: discussions can clarify views, check facts, etc., not just change minds.\\n\\nBut other than that, I think you underestimate the number of people online who share your frustrations and are open to discussing more nuanced views. If you seek out moderate spaces like this sub, and lead by example with a reasonable tone, it is absolutely possible, although frustrating, to wade through all the extremist crap and have a good discussion. ', 'edited': False, 'author_flair_css_class': None, 'downs': 0, 'body_html': '<div class=\"md\"><p>I think you may have a limited vision of meaningful serious discussion. If you find that &quot;reason and logic rarely, if ever <em>work on them</em>&quot; that suggests that you are unsatisfied with a discussion unless you notice your arguments impacting their views. If the you&#39;re mainly interested in debates that end in agreement, then political discussions, whether online or in person, will always feel pointless. Plus, it&#39;s still possible to have a productive discussion between two people with similar political leanings: discussions can clarify views, check facts, etc., not just change minds.</p>\\n\\n<p>But other than that, I think you underestimate the number of people online who share your frustrations and are open to discussing more nuanced views. If you seek out moderate spaces like this sub, and lead by example with a reasonable tone, it is absolutely possible, although frustrating, to wade through all the extremist crap and have a good discussion. </p>\\n</div>', 'stickied': False, 'subreddit': 'changemyview', 'score_hidden': True, 'name': 't1_d9uv7ue', 'created': 1478840037.0, 'author_flair_text': '1∆', 'created_utc': 1478811237.0, 'ups': 1, 'mod_reports': [], 'num_reports': None, 'distinguished': None}\n",
      "ralpher313\n",
      "1478840476.0\n",
      "What I meant by that is that they usually tend to not react to facts and logic (if it doesn't confirm their views) and instead shout people down with insults and buzzwords. Should have made this more clear.\n",
      "\n",
      "The main thing I oppose is the atmosphere of hostility that surrounds political discussion on the Internet.\n",
      "\n",
      "\n",
      "{'subreddit_id': 't5_2w2s8', 'banned_by': None, 'removal_reason': None, 'link_id': 't3_5c8xdc', 'likes': None, 'replies': {'kind': 'Listing', 'data': {'modhash': '', 'children': ['d9uwsnt'], 'after': None, 'before': None}}, 'user_reports': [], 'saved': False, 'id': 'd9uvled', 'gilded': 0, 'archived': False, 'report_reasons': None, 'author': 'ralpher313', 'parent_id': 't1_d9uv7ue', 'score': 1, 'approved_by': None, 'controversiality': 0, 'body': \"What I meant by that is that they usually tend to not react to facts and logic (if it doesn't confirm their views) and instead shout people down with insults and buzzwords. Should have made this more clear.\\n\\nThe main thing I oppose is the atmosphere of hostility that surrounds political discussion on the Internet.\", 'edited': False, 'author_flair_css_class': None, 'downs': 0, 'body_html': '<div class=\"md\"><p>What I meant by that is that they usually tend to not react to facts and logic (if it doesn&#39;t confirm their views) and instead shout people down with insults and buzzwords. Should have made this more clear.</p>\\n\\n<p>The main thing I oppose is the atmosphere of hostility that surrounds political discussion on the Internet.</p>\\n</div>', 'stickied': False, 'subreddit': 'changemyview', 'score_hidden': True, 'name': 't1_d9uvled', 'created': 1478840476.0, 'author_flair_text': None, 'created_utc': 1478811676.0, 'ups': 1, 'mod_reports': [], 'num_reports': None, 'distinguished': None}\n",
      "InsufficientOverkill\n",
      "1478841900.0\n",
      "Ah I see.\n",
      "\n",
      "Yes, the hostility is definitely everywhere and I hate it as much as you do. But I don't think it's entirely inescapable, especially accounting for discussions between similarly-minded people and heavily moderated places like this sub.\n",
      "\n",
      "\n",
      "{'subreddit_id': 't5_2w2s8', 'banned_by': None, 'removal_reason': None, 'link_id': 't3_5c8xdc', 'likes': None, 'replies': '', 'user_reports': [], 'saved': False, 'id': 'd9uwsnt', 'gilded': 0, 'archived': False, 'report_reasons': None, 'author': 'InsufficientOverkill', 'parent_id': 't1_d9uvled', 'score': 1, 'approved_by': None, 'controversiality': 0, 'body': \"Ah I see.\\n\\nYes, the hostility is definitely everywhere and I hate it as much as you do. But I don't think it's entirely inescapable, especially accounting for discussions between similarly-minded people and heavily moderated places like this sub.\", 'edited': False, 'author_flair_css_class': None, 'downs': 0, 'body_html': '<div class=\"md\"><p>Ah I see.</p>\\n\\n<p>Yes, the hostility is definitely everywhere and I hate it as much as you do. But I don&#39;t think it&#39;s entirely inescapable, especially accounting for discussions between similarly-minded people and heavily moderated places like this sub.</p>\\n</div>', 'stickied': False, 'subreddit': 'changemyview', 'score_hidden': True, 'name': 't1_d9uwsnt', 'created': 1478841900.0, 'author_flair_text': '1∆', 'created_utc': 1478813100.0, 'ups': 1, 'mod_reports': [], 'num_reports': None, 'distinguished': None}\n",
      "jello_sweaters\n",
      "1478855724.0\n",
      "The fact that you've chosen to start a discussion in this sub would really seem to suggest otherwise.\n",
      "\n",
      "\n",
      "{'subreddit_id': 't5_2w2s8', 'banned_by': None, 'removal_reason': None, 'link_id': 't3_5c8xdc', 'likes': None, 'replies': '', 'user_reports': [], 'saved': False, 'id': 'd9v7did', 'gilded': 0, 'archived': False, 'report_reasons': None, 'author': 'jello_sweaters', 'parent_id': 't3_5c8xdc', 'score': 1, 'approved_by': None, 'controversiality': 0, 'body': \"The fact that you've chosen to start a discussion in this sub would really seem to suggest otherwise.\", 'edited': False, 'author_flair_css_class': None, 'downs': 0, 'body_html': '<div class=\"md\"><p>The fact that you&#39;ve chosen to start a discussion in this sub would really seem to suggest otherwise.</p>\\n</div>', 'stickied': False, 'subreddit': 'changemyview', 'score_hidden': True, 'name': 't1_d9v7did', 'created': 1478855724.0, 'author_flair_text': '3∆', 'created_utc': 1478826924.0, 'ups': 1, 'mod_reports': [], 'num_reports': None, 'distinguished': None}\n",
      "eruthered\n",
      "1478834448.0\n",
      "If you are taking responses to your post seriously, you should change your view. \n",
      "\n",
      "\n",
      "{'subreddit_id': 't5_2w2s8', 'banned_by': None, 'removal_reason': None, 'link_id': 't3_5c8xdc', 'likes': None, 'replies': {'kind': 'Listing', 'data': {'modhash': '', 'children': ['d9uqteo'], 'after': None, 'before': None}}, 'user_reports': [], 'saved': False, 'id': 'd9uqf01', 'gilded': 0, 'archived': False, 'report_reasons': None, 'author': 'eruthered', 'parent_id': 't3_5c8xdc', 'score': 1, 'approved_by': None, 'controversiality': 0, 'body': 'If you are taking responses to your post seriously, you should change your view. ', 'edited': False, 'author_flair_css_class': None, 'downs': 0, 'body_html': '<div class=\"md\"><p>If you are taking responses to your post seriously, you should change your view. </p>\\n</div>', 'stickied': False, 'subreddit': 'changemyview', 'score_hidden': True, 'name': 't1_d9uqf01', 'created': 1478834448.0, 'author_flair_text': '1∆', 'created_utc': 1478805648.0, 'ups': 1, 'mod_reports': [], 'num_reports': None, 'distinguished': None}\n",
      "ralpher313\n",
      "1478834907.0\n",
      "Well, it has been changed. That's why I gave /u/Ansuz07 a delta.\n",
      "\n",
      "\n",
      "{'subreddit_id': 't5_2w2s8', 'banned_by': None, 'removal_reason': None, 'link_id': 't3_5c8xdc', 'likes': None, 'replies': {'kind': 'Listing', 'data': {'modhash': '', 'children': ['d9us1s0'], 'after': None, 'before': None}}, 'user_reports': [], 'saved': False, 'id': 'd9uqteo', 'gilded': 0, 'archived': False, 'report_reasons': None, 'author': 'ralpher313', 'parent_id': 't1_d9uqf01', 'score': 1, 'approved_by': None, 'controversiality': 0, 'body': \"Well, it has been changed. That's why I gave /u/Ansuz07 a delta.\", 'edited': False, 'author_flair_css_class': None, 'downs': 0, 'body_html': '<div class=\"md\"><p>Well, it has been changed. That&#39;s why I gave <a href=\"/u/Ansuz07\">/u/Ansuz07</a> a delta.</p>\\n</div>', 'stickied': False, 'subreddit': 'changemyview', 'score_hidden': True, 'name': 't1_d9uqteo', 'created': 1478834907.0, 'author_flair_text': None, 'created_utc': 1478806107.0, 'ups': 1, 'mod_reports': [], 'num_reports': None, 'distinguished': None}\n",
      "eruthered\n",
      "1478836342.0\n",
      "Ok. The delta wasn't there when I posted. \n",
      "\n",
      "\n",
      "{'subreddit_id': 't5_2w2s8', 'banned_by': None, 'removal_reason': None, 'link_id': 't3_5c8xdc', 'likes': None, 'replies': '', 'user_reports': [], 'saved': False, 'id': 'd9us1s0', 'gilded': 0, 'archived': False, 'report_reasons': None, 'author': 'eruthered', 'parent_id': 't1_d9uqteo', 'score': 1, 'approved_by': None, 'controversiality': 0, 'body': \"Ok. The delta wasn't there when I posted. \", 'edited': False, 'author_flair_css_class': None, 'downs': 0, 'body_html': '<div class=\"md\"><p>Ok. The delta wasn&#39;t there when I posted. </p>\\n</div>', 'stickied': False, 'subreddit': 'changemyview', 'score_hidden': True, 'name': 't1_d9us1s0', 'created': 1478836342.0, 'author_flair_text': '1∆', 'created_utc': 1478807542.0, 'ups': 1, 'mod_reports': [], 'num_reports': None, 'distinguished': None}\n"
     ]
    }
   ],
   "source": [
    "for c in l['comments']:\n",
    "    try:\n",
    "        print(c['author'])\n",
    "        print(c['created'])\n",
    "        print(c['body'])\n",
    "        print('\\n')\n",
    "        print(c)\n",
    "    except:\n",
    "        pass"
   ]
  },
  {
   "cell_type": "markdown",
   "metadata": {
    "deletable": true,
    "editable": true
   },
   "source": [
    "In the above post we see the deltabot, which indicates that the original poster awared a delta to a user, Ansuz07. We see that the OP awarded a delta by using the symbol in their comment in reply to the second comment by Ansuz07. We can infer that this comment changed the OPs view."
   ]
  },
  {
   "cell_type": "code",
   "execution_count": 85,
   "metadata": {
    "collapsed": true,
    "deletable": true,
    "editable": true
   },
   "outputs": [],
   "source": [
    "def has_delta(comment_text):\n",
    "    if '∆' in comment_text:\n",
    "        return True\n",
    "    else:\n",
    "        return False"
   ]
  },
  {
   "cell_type": "code",
   "execution_count": 86,
   "metadata": {
    "collapsed": false,
    "deletable": true,
    "editable": true
   },
   "outputs": [
    {
     "name": "stdout",
     "output_type": "stream",
     "text": [
      "∆\n"
     ]
    }
   ],
   "source": [
    "print('∆')"
   ]
  },
  {
   "cell_type": "code",
   "execution_count": 90,
   "metadata": {
    "collapsed": false,
    "deletable": true,
    "editable": true
   },
   "outputs": [
    {
     "name": "stdout",
     "output_type": "stream",
     "text": [
      "DELTA DETECTED\n",
      "I didn't said that it can't occur, it just seems to me that way. Or maybe this election has left me VERY worn out with politics and I've just started noticing this more.\n",
      "\n",
      "∆\n",
      "\n",
      "Also, kinda off-topic, but don't know where else to ask this:\n",
      "\n",
      "What should I do when I'm REALLY fucking sick of politics?\n",
      "\n",
      "DELTA DETECTED\n",
      "Confirmed: 1 delta awarded to /u/Ansuz07 ([75∆](/r/changemyview/wiki/user/Ansuz07)).\n",
      "\n",
      "^[Delta System Explained](https://www.reddit.com/r/changemyview/wiki/deltasystem) ^| ^[Deltaboards](https://www.reddit.com/r/changemyview/wiki/deltaboards)\n",
      "[​](HTTP://DB3PARAMSSTART\n",
      "{\n",
      "  \"comment\": \"This is hidden text for DB3 to parse. Please contact the author of DB3 if you see this\",\n",
      "  \"issues\": {},\n",
      "  \"parentUserName\": \"Ansuz07\"\n",
      "}\n",
      "DB3PARAMSEND)\n"
     ]
    }
   ],
   "source": [
    "for c in l['comments']:\n",
    "    try:\n",
    "        if has_delta(c['body']):\n",
    "            print(\"DELTA DETECTED\")\n",
    "            print(c['body'])\n",
    "    except:\n",
    "        pass"
   ]
  },
  {
   "cell_type": "markdown",
   "metadata": {
    "deletable": true,
    "editable": true
   },
   "source": [
    "TODO: Either fix the delta issue here, so that the delta is added to the correct comment, i.e. the one preceding the one where the delta is granted / the user mentioned by the delta bot, or do this later."
   ]
  },
  {
   "cell_type": "markdown",
   "metadata": {
    "deletable": true,
    "editable": true
   },
   "source": [
    "Now read in each line, extract important information, and store it."
   ]
  },
  {
   "cell_type": "code",
   "execution_count": 114,
   "metadata": {
    "collapsed": true,
    "deletable": true,
    "editable": true
   },
   "outputs": [],
   "source": [
    "f = open(data, 'rb')\n",
    "posts_dict = {}\n",
    "comments_dict = {}\n",
    "for line in f:\n",
    "    post = json.loads(line.decode('utf-8'))\n",
    "    post_info = {\n",
    "                 'title': post['title'],\n",
    "                 'text': post['selftext'],\n",
    "                 'author': post['author'],\n",
    "                 'num_comments': post['num_comments'],\n",
    "                 'time': post['created'],\n",
    "                 'url': post['url'],\n",
    "                 'name': post['name'],\n",
    "                 'score': post['score']\n",
    "    }\n",
    "    comment_list = []\n",
    "    for c in post['comments']:\n",
    "        try:\n",
    "            comment_list.append({\n",
    "                'author' : c['author'],\n",
    "                'time' : c['created'],\n",
    "                'text': c['body'],\n",
    "                'parent': c['parent_id'],\n",
    "                'score': c['score'],\n",
    "                'delta': has_delta(c['body'])\n",
    "\n",
    "            })\n",
    "        except: # Skip comments if they do not have these attributes\n",
    "            pass \n",
    "    posts_dict[post['id']] = post_info\n",
    "    comments_dict[post['id']]= comment_list\n",
    "f.close()"
   ]
  },
  {
   "cell_type": "code",
   "execution_count": 115,
   "metadata": {
    "collapsed": true,
    "deletable": true,
    "editable": true
   },
   "outputs": [],
   "source": [
    "pickle.dump(posts_dict, open('post_info.p','wb'))"
   ]
  },
  {
   "cell_type": "code",
   "execution_count": 116,
   "metadata": {
    "collapsed": true,
    "deletable": true,
    "editable": true
   },
   "outputs": [],
   "source": [
    "pickle.dump(comments_dict, open('comment_info.p','wb'))"
   ]
  },
  {
   "cell_type": "code",
   "execution_count": 117,
   "metadata": {
    "collapsed": false,
    "deletable": true,
    "editable": true
   },
   "outputs": [
    {
     "name": "stdout",
     "output_type": "stream",
     "text": [
      "total 1974024\r\n",
      "-rw-r--r--  1 trd54  staff   909M Sep  2 17:48 comment_info.p\r\n",
      "-rw-r--r--  1 trd54  staff    76K Sep  2 17:49 data_exploration.ipynb\r\n",
      "-rw-r--r--  1 trd54  staff    55M Sep  2 17:48 post_info.p\r\n"
     ]
    }
   ],
   "source": [
    "!ls -lh"
   ]
  },
  {
   "cell_type": "markdown",
   "metadata": {
    "deletable": true,
    "editable": true
   },
   "source": [
    "The file containing the info about comments is now almost a gigabyte in size. The posts file is much smaller but still not worth putting on Github."
   ]
  }
 ],
 "metadata": {
  "kernelspec": {
   "display_name": "IPython (Python 3)",
   "language": "python",
   "name": "python3"
  },
  "language_info": {
   "codemirror_mode": {
    "name": "ipython",
    "version": 3
   },
   "file_extension": ".py",
   "mimetype": "text/x-python",
   "name": "python",
   "nbconvert_exporter": "python",
   "pygments_lexer": "ipython3",
   "version": "3.6.2"
  }
 },
 "nbformat": 4,
 "nbformat_minor": 2
}
