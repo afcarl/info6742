{
 "cells": [
  {
   "cell_type": "code",
   "execution_count": 3,
   "metadata": {},
   "outputs": [],
   "source": [
    "import pickle\n",
    "import pandas as pd\n",
    "pd.set_option('display.max_columns', None)\n",
    "import matplotlib.pyplot as plt\n",
    "%matplotlib inline"
   ]
  },
  {
   "cell_type": "code",
   "execution_count": 4,
   "metadata": {},
   "outputs": [],
   "source": [
    "data_file = \"preproc_data_w_text.p\"\n",
    "df = pickle.load(open(data_file,'rb'))"
   ]
  },
  {
   "cell_type": "code",
   "execution_count": 5,
   "metadata": {},
   "outputs": [
    {
     "name": "stdout",
     "output_type": "stream",
     "text": [
      "cmv_20161111.jsonlist deltas_info.p\r\n",
      "comment_info.p        post_info.p\r\n"
     ]
    }
   ],
   "source": [
    "!cd ../../../Shared/CMV && ls"
   ]
  },
  {
   "cell_type": "code",
   "execution_count": 6,
   "metadata": {},
   "outputs": [
    {
     "data": {
      "text/html": [
       "<div>\n",
       "<style>\n",
       "    .dataframe thead tr:only-child th {\n",
       "        text-align: right;\n",
       "    }\n",
       "\n",
       "    .dataframe thead th {\n",
       "        text-align: left;\n",
       "    }\n",
       "\n",
       "    .dataframe tbody tr th {\n",
       "        vertical-align: top;\n",
       "    }\n",
       "</style>\n",
       "<table border=\"1\" class=\"dataframe\">\n",
       "  <thead>\n",
       "    <tr style=\"text-align: right;\">\n",
       "      <th></th>\n",
       "      <th>comment_id</th>\n",
       "      <th>comment_content</th>\n",
       "      <th>comment_auth</th>\n",
       "      <th>comment_time</th>\n",
       "      <th>comment_parent</th>\n",
       "      <th>comment_depth</th>\n",
       "      <th>op_id</th>\n",
       "      <th>op_content</th>\n",
       "      <th>op_auth</th>\n",
       "      <th>op_time</th>\n",
       "      <th>delta</th>\n",
       "      <th>delta_thread</th>\n",
       "      <th>time_diff</th>\n",
       "      <th>comment_harm_virtue</th>\n",
       "      <th>op_harm_virtue</th>\n",
       "      <th>comment_harm_virtue_bin</th>\n",
       "      <th>op_harm_virtue_bin</th>\n",
       "      <th>comment_MFT_usage</th>\n",
       "      <th>comment_harm_vice</th>\n",
       "      <th>op_harm_vice</th>\n",
       "      <th>comment_harm_vice_bin</th>\n",
       "      <th>op_harm_vice_bin</th>\n",
       "      <th>comment_fairness_virtue</th>\n",
       "      <th>op_fairness_virtue</th>\n",
       "      <th>comment_fairness_virtue_bin</th>\n",
       "      <th>op_fairness_virtue_bin</th>\n",
       "      <th>comment_fairness_vice</th>\n",
       "      <th>op_fairness_vice</th>\n",
       "      <th>comment_fairness_vice_bin</th>\n",
       "      <th>op_fairness_vice_bin</th>\n",
       "      <th>comment_ingroup_virtue</th>\n",
       "      <th>op_ingroup_virtue</th>\n",
       "      <th>comment_ingroup_virtue_bin</th>\n",
       "      <th>op_ingroup_virtue_bin</th>\n",
       "      <th>comment_ingroup_vice</th>\n",
       "      <th>op_ingroup_vice</th>\n",
       "      <th>comment_ingroup_vice_bin</th>\n",
       "      <th>op_ingroup_vice_bin</th>\n",
       "      <th>comment_authority_virtue</th>\n",
       "      <th>op_authority_virtue</th>\n",
       "      <th>comment_authority_virtue_bin</th>\n",
       "      <th>op_authority_virtue_bin</th>\n",
       "      <th>comment_authority_vice</th>\n",
       "      <th>op_authority_vice</th>\n",
       "      <th>comment_authority_vice_bin</th>\n",
       "      <th>op_authority_vice_bin</th>\n",
       "      <th>comment_purity_virtue</th>\n",
       "      <th>op_purity_virtue</th>\n",
       "      <th>comment_purity_virtue_bin</th>\n",
       "      <th>op_purity_virtue_bin</th>\n",
       "      <th>comment_purity_vice</th>\n",
       "      <th>op_purity_vice</th>\n",
       "      <th>comment_purity_vice_bin</th>\n",
       "      <th>op_purity_vice_bin</th>\n",
       "      <th>comment_morality_general</th>\n",
       "      <th>op_morality_general</th>\n",
       "      <th>comment_morality_general_bin</th>\n",
       "      <th>op_morality_general_bin</th>\n",
       "      <th>comment_MFT_usage_bin</th>\n",
       "      <th>j_num</th>\n",
       "      <th>j_den</th>\n",
       "      <th>jaccard_sim_split</th>\n",
       "      <th>jaccard_sim_same</th>\n",
       "    </tr>\n",
       "  </thead>\n",
       "  <tbody>\n",
       "    <tr>\n",
       "      <th>0</th>\n",
       "      <td>d9ujmbi</td>\n",
       "      <td>I would offer this very sub as a counterpoint ...</td>\n",
       "      <td>Ansuz07</td>\n",
       "      <td>1.478827e+09</td>\n",
       "      <td>5c8xdc</td>\n",
       "      <td>1</td>\n",
       "      <td>5c8xdc</td>\n",
       "      <td>I have to say that I am very disappointed with...</td>\n",
       "      <td>ralpher313</td>\n",
       "      <td>1.478826e+09</td>\n",
       "      <td>0</td>\n",
       "      <td>1</td>\n",
       "      <td>442.0</td>\n",
       "      <td>0</td>\n",
       "      <td>0</td>\n",
       "      <td>0</td>\n",
       "      <td>0</td>\n",
       "      <td>2</td>\n",
       "      <td>0</td>\n",
       "      <td>0</td>\n",
       "      <td>0</td>\n",
       "      <td>0</td>\n",
       "      <td>0</td>\n",
       "      <td>0</td>\n",
       "      <td>0</td>\n",
       "      <td>0</td>\n",
       "      <td>0</td>\n",
       "      <td>0</td>\n",
       "      <td>0</td>\n",
       "      <td>0</td>\n",
       "      <td>1</td>\n",
       "      <td>1</td>\n",
       "      <td>1</td>\n",
       "      <td>1</td>\n",
       "      <td>0</td>\n",
       "      <td>0</td>\n",
       "      <td>0</td>\n",
       "      <td>0</td>\n",
       "      <td>0</td>\n",
       "      <td>1</td>\n",
       "      <td>0</td>\n",
       "      <td>1</td>\n",
       "      <td>0</td>\n",
       "      <td>0</td>\n",
       "      <td>0</td>\n",
       "      <td>0</td>\n",
       "      <td>0</td>\n",
       "      <td>0</td>\n",
       "      <td>0</td>\n",
       "      <td>0</td>\n",
       "      <td>0</td>\n",
       "      <td>0</td>\n",
       "      <td>0</td>\n",
       "      <td>0</td>\n",
       "      <td>1</td>\n",
       "      <td>1</td>\n",
       "      <td>1</td>\n",
       "      <td>1</td>\n",
       "      <td>1</td>\n",
       "      <td>5</td>\n",
       "      <td>7</td>\n",
       "      <td>0.833333</td>\n",
       "      <td>0.714286</td>\n",
       "    </tr>\n",
       "    <tr>\n",
       "      <th>1</th>\n",
       "      <td>d9ujw71</td>\n",
       "      <td>That doesn't mean that you can't have a meanin...</td>\n",
       "      <td>Ansuz07</td>\n",
       "      <td>1.478827e+09</td>\n",
       "      <td>d9ujt0e</td>\n",
       "      <td>3</td>\n",
       "      <td>5c8xdc</td>\n",
       "      <td>I have to say that I am very disappointed with...</td>\n",
       "      <td>ralpher313</td>\n",
       "      <td>1.478826e+09</td>\n",
       "      <td>1</td>\n",
       "      <td>1</td>\n",
       "      <td>758.0</td>\n",
       "      <td>0</td>\n",
       "      <td>0</td>\n",
       "      <td>0</td>\n",
       "      <td>0</td>\n",
       "      <td>0</td>\n",
       "      <td>0</td>\n",
       "      <td>0</td>\n",
       "      <td>0</td>\n",
       "      <td>0</td>\n",
       "      <td>0</td>\n",
       "      <td>0</td>\n",
       "      <td>0</td>\n",
       "      <td>0</td>\n",
       "      <td>0</td>\n",
       "      <td>0</td>\n",
       "      <td>0</td>\n",
       "      <td>0</td>\n",
       "      <td>0</td>\n",
       "      <td>1</td>\n",
       "      <td>0</td>\n",
       "      <td>1</td>\n",
       "      <td>0</td>\n",
       "      <td>0</td>\n",
       "      <td>0</td>\n",
       "      <td>0</td>\n",
       "      <td>0</td>\n",
       "      <td>1</td>\n",
       "      <td>0</td>\n",
       "      <td>1</td>\n",
       "      <td>0</td>\n",
       "      <td>0</td>\n",
       "      <td>0</td>\n",
       "      <td>0</td>\n",
       "      <td>0</td>\n",
       "      <td>0</td>\n",
       "      <td>0</td>\n",
       "      <td>0</td>\n",
       "      <td>0</td>\n",
       "      <td>0</td>\n",
       "      <td>0</td>\n",
       "      <td>0</td>\n",
       "      <td>0</td>\n",
       "      <td>1</td>\n",
       "      <td>0</td>\n",
       "      <td>1</td>\n",
       "      <td>0</td>\n",
       "      <td>3</td>\n",
       "      <td>9</td>\n",
       "      <td>0.571429</td>\n",
       "      <td>0.333333</td>\n",
       "    </tr>\n",
       "    <tr>\n",
       "      <th>2</th>\n",
       "      <td>d9ukuqd</td>\n",
       "      <td>Practice a hobby when you are sick of politics...</td>\n",
       "      <td>Krieg-The-Psycho1</td>\n",
       "      <td>1.478828e+09</td>\n",
       "      <td>d9uk2bm</td>\n",
       "      <td>5</td>\n",
       "      <td>5c8xdc</td>\n",
       "      <td>I have to say that I am very disappointed with...</td>\n",
       "      <td>ralpher313</td>\n",
       "      <td>1.478826e+09</td>\n",
       "      <td>0</td>\n",
       "      <td>1</td>\n",
       "      <td>1845.0</td>\n",
       "      <td>0</td>\n",
       "      <td>0</td>\n",
       "      <td>0</td>\n",
       "      <td>0</td>\n",
       "      <td>2</td>\n",
       "      <td>0</td>\n",
       "      <td>0</td>\n",
       "      <td>0</td>\n",
       "      <td>0</td>\n",
       "      <td>0</td>\n",
       "      <td>0</td>\n",
       "      <td>0</td>\n",
       "      <td>0</td>\n",
       "      <td>0</td>\n",
       "      <td>0</td>\n",
       "      <td>0</td>\n",
       "      <td>0</td>\n",
       "      <td>1</td>\n",
       "      <td>1</td>\n",
       "      <td>1</td>\n",
       "      <td>1</td>\n",
       "      <td>0</td>\n",
       "      <td>0</td>\n",
       "      <td>0</td>\n",
       "      <td>0</td>\n",
       "      <td>0</td>\n",
       "      <td>1</td>\n",
       "      <td>0</td>\n",
       "      <td>1</td>\n",
       "      <td>0</td>\n",
       "      <td>0</td>\n",
       "      <td>0</td>\n",
       "      <td>0</td>\n",
       "      <td>0</td>\n",
       "      <td>0</td>\n",
       "      <td>0</td>\n",
       "      <td>0</td>\n",
       "      <td>1</td>\n",
       "      <td>0</td>\n",
       "      <td>1</td>\n",
       "      <td>0</td>\n",
       "      <td>0</td>\n",
       "      <td>1</td>\n",
       "      <td>0</td>\n",
       "      <td>1</td>\n",
       "      <td>1</td>\n",
       "      <td>3</td>\n",
       "      <td>9</td>\n",
       "      <td>0.571429</td>\n",
       "      <td>0.333333</td>\n",
       "    </tr>\n",
       "    <tr>\n",
       "      <th>3</th>\n",
       "      <td>d9uk6m0</td>\n",
       "      <td>This election has certianly been very polarizi...</td>\n",
       "      <td>Ansuz07</td>\n",
       "      <td>1.478827e+09</td>\n",
       "      <td>d9uk2bm</td>\n",
       "      <td>5</td>\n",
       "      <td>5c8xdc</td>\n",
       "      <td>I have to say that I am very disappointed with...</td>\n",
       "      <td>ralpher313</td>\n",
       "      <td>1.478826e+09</td>\n",
       "      <td>0</td>\n",
       "      <td>1</td>\n",
       "      <td>1087.0</td>\n",
       "      <td>0</td>\n",
       "      <td>0</td>\n",
       "      <td>0</td>\n",
       "      <td>0</td>\n",
       "      <td>0</td>\n",
       "      <td>0</td>\n",
       "      <td>0</td>\n",
       "      <td>0</td>\n",
       "      <td>0</td>\n",
       "      <td>0</td>\n",
       "      <td>0</td>\n",
       "      <td>0</td>\n",
       "      <td>0</td>\n",
       "      <td>0</td>\n",
       "      <td>0</td>\n",
       "      <td>0</td>\n",
       "      <td>0</td>\n",
       "      <td>0</td>\n",
       "      <td>1</td>\n",
       "      <td>0</td>\n",
       "      <td>1</td>\n",
       "      <td>0</td>\n",
       "      <td>0</td>\n",
       "      <td>0</td>\n",
       "      <td>0</td>\n",
       "      <td>0</td>\n",
       "      <td>1</td>\n",
       "      <td>0</td>\n",
       "      <td>1</td>\n",
       "      <td>0</td>\n",
       "      <td>0</td>\n",
       "      <td>0</td>\n",
       "      <td>0</td>\n",
       "      <td>0</td>\n",
       "      <td>0</td>\n",
       "      <td>0</td>\n",
       "      <td>0</td>\n",
       "      <td>0</td>\n",
       "      <td>0</td>\n",
       "      <td>0</td>\n",
       "      <td>0</td>\n",
       "      <td>0</td>\n",
       "      <td>1</td>\n",
       "      <td>0</td>\n",
       "      <td>1</td>\n",
       "      <td>0</td>\n",
       "      <td>3</td>\n",
       "      <td>9</td>\n",
       "      <td>0.571429</td>\n",
       "      <td>0.333333</td>\n",
       "    </tr>\n",
       "    <tr>\n",
       "      <th>4</th>\n",
       "      <td>d9ukl5h</td>\n",
       "      <td>People have always done this - men would get t...</td>\n",
       "      <td>Ansuz07</td>\n",
       "      <td>1.478828e+09</td>\n",
       "      <td>d9ukg11</td>\n",
       "      <td>7</td>\n",
       "      <td>5c8xdc</td>\n",
       "      <td>I have to say that I am very disappointed with...</td>\n",
       "      <td>ralpher313</td>\n",
       "      <td>1.478826e+09</td>\n",
       "      <td>0</td>\n",
       "      <td>1</td>\n",
       "      <td>1544.0</td>\n",
       "      <td>0</td>\n",
       "      <td>0</td>\n",
       "      <td>0</td>\n",
       "      <td>0</td>\n",
       "      <td>3</td>\n",
       "      <td>0</td>\n",
       "      <td>0</td>\n",
       "      <td>0</td>\n",
       "      <td>0</td>\n",
       "      <td>0</td>\n",
       "      <td>0</td>\n",
       "      <td>0</td>\n",
       "      <td>0</td>\n",
       "      <td>0</td>\n",
       "      <td>0</td>\n",
       "      <td>0</td>\n",
       "      <td>0</td>\n",
       "      <td>3</td>\n",
       "      <td>1</td>\n",
       "      <td>1</td>\n",
       "      <td>1</td>\n",
       "      <td>0</td>\n",
       "      <td>0</td>\n",
       "      <td>0</td>\n",
       "      <td>0</td>\n",
       "      <td>0</td>\n",
       "      <td>1</td>\n",
       "      <td>0</td>\n",
       "      <td>1</td>\n",
       "      <td>0</td>\n",
       "      <td>0</td>\n",
       "      <td>0</td>\n",
       "      <td>0</td>\n",
       "      <td>0</td>\n",
       "      <td>0</td>\n",
       "      <td>0</td>\n",
       "      <td>0</td>\n",
       "      <td>0</td>\n",
       "      <td>0</td>\n",
       "      <td>0</td>\n",
       "      <td>0</td>\n",
       "      <td>0</td>\n",
       "      <td>1</td>\n",
       "      <td>0</td>\n",
       "      <td>1</td>\n",
       "      <td>1</td>\n",
       "      <td>4</td>\n",
       "      <td>8</td>\n",
       "      <td>0.692308</td>\n",
       "      <td>0.500000</td>\n",
       "    </tr>\n",
       "  </tbody>\n",
       "</table>\n",
       "</div>"
      ],
      "text/plain": [
       "  comment_id                                    comment_content  \\\n",
       "0    d9ujmbi  I would offer this very sub as a counterpoint ...   \n",
       "1    d9ujw71  That doesn't mean that you can't have a meanin...   \n",
       "2    d9ukuqd  Practice a hobby when you are sick of politics...   \n",
       "3    d9uk6m0  This election has certianly been very polarizi...   \n",
       "4    d9ukl5h  People have always done this - men would get t...   \n",
       "\n",
       "        comment_auth  comment_time comment_parent  comment_depth   op_id  \\\n",
       "0            Ansuz07  1.478827e+09         5c8xdc              1  5c8xdc   \n",
       "1            Ansuz07  1.478827e+09        d9ujt0e              3  5c8xdc   \n",
       "2  Krieg-The-Psycho1  1.478828e+09        d9uk2bm              5  5c8xdc   \n",
       "3            Ansuz07  1.478827e+09        d9uk2bm              5  5c8xdc   \n",
       "4            Ansuz07  1.478828e+09        d9ukg11              7  5c8xdc   \n",
       "\n",
       "                                          op_content     op_auth  \\\n",
       "0  I have to say that I am very disappointed with...  ralpher313   \n",
       "1  I have to say that I am very disappointed with...  ralpher313   \n",
       "2  I have to say that I am very disappointed with...  ralpher313   \n",
       "3  I have to say that I am very disappointed with...  ralpher313   \n",
       "4  I have to say that I am very disappointed with...  ralpher313   \n",
       "\n",
       "        op_time  delta  delta_thread  time_diff  comment_harm_virtue  \\\n",
       "0  1.478826e+09      0             1      442.0                    0   \n",
       "1  1.478826e+09      1             1      758.0                    0   \n",
       "2  1.478826e+09      0             1     1845.0                    0   \n",
       "3  1.478826e+09      0             1     1087.0                    0   \n",
       "4  1.478826e+09      0             1     1544.0                    0   \n",
       "\n",
       "   op_harm_virtue  comment_harm_virtue_bin  op_harm_virtue_bin  \\\n",
       "0               0                        0                   0   \n",
       "1               0                        0                   0   \n",
       "2               0                        0                   0   \n",
       "3               0                        0                   0   \n",
       "4               0                        0                   0   \n",
       "\n",
       "   comment_MFT_usage  comment_harm_vice  op_harm_vice  comment_harm_vice_bin  \\\n",
       "0                  2                  0             0                      0   \n",
       "1                  0                  0             0                      0   \n",
       "2                  2                  0             0                      0   \n",
       "3                  0                  0             0                      0   \n",
       "4                  3                  0             0                      0   \n",
       "\n",
       "   op_harm_vice_bin  comment_fairness_virtue  op_fairness_virtue  \\\n",
       "0                 0                        0                   0   \n",
       "1                 0                        0                   0   \n",
       "2                 0                        0                   0   \n",
       "3                 0                        0                   0   \n",
       "4                 0                        0                   0   \n",
       "\n",
       "   comment_fairness_virtue_bin  op_fairness_virtue_bin  comment_fairness_vice  \\\n",
       "0                            0                       0                      0   \n",
       "1                            0                       0                      0   \n",
       "2                            0                       0                      0   \n",
       "3                            0                       0                      0   \n",
       "4                            0                       0                      0   \n",
       "\n",
       "   op_fairness_vice  comment_fairness_vice_bin  op_fairness_vice_bin  \\\n",
       "0                 0                          0                     0   \n",
       "1                 0                          0                     0   \n",
       "2                 0                          0                     0   \n",
       "3                 0                          0                     0   \n",
       "4                 0                          0                     0   \n",
       "\n",
       "   comment_ingroup_virtue  op_ingroup_virtue  comment_ingroup_virtue_bin  \\\n",
       "0                       1                  1                           1   \n",
       "1                       0                  1                           0   \n",
       "2                       1                  1                           1   \n",
       "3                       0                  1                           0   \n",
       "4                       3                  1                           1   \n",
       "\n",
       "   op_ingroup_virtue_bin  comment_ingroup_vice  op_ingroup_vice  \\\n",
       "0                      1                     0                0   \n",
       "1                      1                     0                0   \n",
       "2                      1                     0                0   \n",
       "3                      1                     0                0   \n",
       "4                      1                     0                0   \n",
       "\n",
       "   comment_ingroup_vice_bin  op_ingroup_vice_bin  comment_authority_virtue  \\\n",
       "0                         0                    0                         0   \n",
       "1                         0                    0                         0   \n",
       "2                         0                    0                         0   \n",
       "3                         0                    0                         0   \n",
       "4                         0                    0                         0   \n",
       "\n",
       "   op_authority_virtue  comment_authority_virtue_bin  op_authority_virtue_bin  \\\n",
       "0                    1                             0                        1   \n",
       "1                    1                             0                        1   \n",
       "2                    1                             0                        1   \n",
       "3                    1                             0                        1   \n",
       "4                    1                             0                        1   \n",
       "\n",
       "   comment_authority_vice  op_authority_vice  comment_authority_vice_bin  \\\n",
       "0                       0                  0                           0   \n",
       "1                       0                  0                           0   \n",
       "2                       0                  0                           0   \n",
       "3                       0                  0                           0   \n",
       "4                       0                  0                           0   \n",
       "\n",
       "   op_authority_vice_bin  comment_purity_virtue  op_purity_virtue  \\\n",
       "0                      0                      0                 0   \n",
       "1                      0                      0                 0   \n",
       "2                      0                      0                 0   \n",
       "3                      0                      0                 0   \n",
       "4                      0                      0                 0   \n",
       "\n",
       "   comment_purity_virtue_bin  op_purity_virtue_bin  comment_purity_vice  \\\n",
       "0                          0                     0                    0   \n",
       "1                          0                     0                    0   \n",
       "2                          0                     0                    1   \n",
       "3                          0                     0                    0   \n",
       "4                          0                     0                    0   \n",
       "\n",
       "   op_purity_vice  comment_purity_vice_bin  op_purity_vice_bin  \\\n",
       "0               0                        0                   0   \n",
       "1               0                        0                   0   \n",
       "2               0                        1                   0   \n",
       "3               0                        0                   0   \n",
       "4               0                        0                   0   \n",
       "\n",
       "   comment_morality_general  op_morality_general  \\\n",
       "0                         1                    1   \n",
       "1                         0                    1   \n",
       "2                         0                    1   \n",
       "3                         0                    1   \n",
       "4                         0                    1   \n",
       "\n",
       "   comment_morality_general_bin  op_morality_general_bin  \\\n",
       "0                             1                        1   \n",
       "1                             0                        1   \n",
       "2                             0                        1   \n",
       "3                             0                        1   \n",
       "4                             0                        1   \n",
       "\n",
       "   comment_MFT_usage_bin  j_num  j_den  jaccard_sim_split  jaccard_sim_same  \n",
       "0                      1      5      7           0.833333          0.714286  \n",
       "1                      0      3      9           0.571429          0.333333  \n",
       "2                      1      3      9           0.571429          0.333333  \n",
       "3                      0      3      9           0.571429          0.333333  \n",
       "4                      1      4      8           0.692308          0.500000  "
      ]
     },
     "execution_count": 6,
     "metadata": {},
     "output_type": "execute_result"
    }
   ],
   "source": [
    "df.head()"
   ]
  },
  {
   "cell_type": "code",
   "execution_count": 7,
   "metadata": {},
   "outputs": [],
   "source": [
    "df = df[df['delta_thread'] == 1]"
   ]
  },
  {
   "cell_type": "code",
   "execution_count": 8,
   "metadata": {},
   "outputs": [
    {
     "data": {
      "text/plain": [
       "Index(['comment_id', 'comment_content', 'comment_auth', 'comment_time',\n",
       "       'comment_parent', 'comment_depth', 'op_id', 'op_content', 'op_auth',\n",
       "       'op_time', 'delta', 'delta_thread', 'time_diff', 'comment_harm_virtue',\n",
       "       'op_harm_virtue', 'comment_harm_virtue_bin', 'op_harm_virtue_bin',\n",
       "       'comment_MFT_usage', 'comment_harm_vice', 'op_harm_vice',\n",
       "       'comment_harm_vice_bin', 'op_harm_vice_bin', 'comment_fairness_virtue',\n",
       "       'op_fairness_virtue', 'comment_fairness_virtue_bin',\n",
       "       'op_fairness_virtue_bin', 'comment_fairness_vice', 'op_fairness_vice',\n",
       "       'comment_fairness_vice_bin', 'op_fairness_vice_bin',\n",
       "       'comment_ingroup_virtue', 'op_ingroup_virtue',\n",
       "       'comment_ingroup_virtue_bin', 'op_ingroup_virtue_bin',\n",
       "       'comment_ingroup_vice', 'op_ingroup_vice', 'comment_ingroup_vice_bin',\n",
       "       'op_ingroup_vice_bin', 'comment_authority_virtue',\n",
       "       'op_authority_virtue', 'comment_authority_virtue_bin',\n",
       "       'op_authority_virtue_bin', 'comment_authority_vice',\n",
       "       'op_authority_vice', 'comment_authority_vice_bin',\n",
       "       'op_authority_vice_bin', 'comment_purity_virtue', 'op_purity_virtue',\n",
       "       'comment_purity_virtue_bin', 'op_purity_virtue_bin',\n",
       "       'comment_purity_vice', 'op_purity_vice', 'comment_purity_vice_bin',\n",
       "       'op_purity_vice_bin', 'comment_morality_general', 'op_morality_general',\n",
       "       'comment_morality_general_bin', 'op_morality_general_bin',\n",
       "       'comment_MFT_usage_bin', 'j_num', 'j_den', 'jaccard_sim_split',\n",
       "       'jaccard_sim_same'],\n",
       "      dtype='object')"
      ]
     },
     "execution_count": 8,
     "metadata": {},
     "output_type": "execute_result"
    }
   ],
   "source": [
    "df.columns"
   ]
  },
  {
   "cell_type": "code",
   "execution_count": 9,
   "metadata": {},
   "outputs": [
    {
     "data": {
      "text/plain": [
       "(484140, 63)"
      ]
     },
     "execution_count": 9,
     "metadata": {},
     "output_type": "execute_result"
    }
   ],
   "source": [
    "df.shape"
   ]
  },
  {
   "cell_type": "markdown",
   "metadata": {},
   "source": [
    "First, look at % moral words by comment length."
   ]
  },
  {
   "cell_type": "code",
   "execution_count": 10,
   "metadata": {
    "collapsed": true
   },
   "outputs": [],
   "source": [
    "comments = df['comment_content']\n",
    "lengths = [len(x.split()) for x in comments]"
   ]
  },
  {
   "cell_type": "code",
   "execution_count": 11,
   "metadata": {
    "collapsed": true
   },
   "outputs": [],
   "source": [
    "df['comment_length'] = lengths"
   ]
  },
  {
   "cell_type": "markdown",
   "metadata": {},
   "source": [
    "To count the tokens in the dict that occur in the comments and to avoid double-counting we need to:\n",
    "\n",
    "    (1) stem and lowercase both dictionary and target.\n",
    "    (2) transform target into list\n",
    "    (3) count the number of matching tokens"
   ]
  },
  {
   "cell_type": "code",
   "execution_count": 76,
   "metadata": {
    "collapsed": true
   },
   "outputs": [],
   "source": [
    "morality_dict = pickle.load(open('morals_dict.p', 'rb'))"
   ]
  },
  {
   "cell_type": "code",
   "execution_count": 75,
   "metadata": {},
   "outputs": [],
   "source": [
    "#del morality_dict['morality_general']"
   ]
  },
  {
   "cell_type": "code",
   "execution_count": 77,
   "metadata": {
    "collapsed": true
   },
   "outputs": [],
   "source": [
    "from nltk.stem import PorterStemmer\n",
    "stemmer = PorterStemmer()\n",
    "from collections import defaultdict"
   ]
  },
  {
   "cell_type": "code",
   "execution_count": 83,
   "metadata": {
    "collapsed": true
   },
   "outputs": [],
   "source": [
    "def count_moral_words(morality_dict, text):\n",
    "    text = text.lower().split()\n",
    "    text = [stemmer.stem(x) for x in text]\n",
    "    unique_words = defaultdict(int) # counts if a word already used as there are some duplicates\n",
    "    moral_count = 0\n",
    "    for k,v in morality_dict.items():\n",
    "        for w in v:\n",
    "            unique_words[w] += 0\n",
    "            wc = text.count(w)\n",
    "            if unique_words[w] > 0:\n",
    "                pass\n",
    "            else:\n",
    "                unique_words[w] = wc\n",
    "                moral_count+=wc\n",
    "    return moral_count"
   ]
  },
  {
   "cell_type": "code",
   "execution_count": 86,
   "metadata": {},
   "outputs": [
    {
     "data": {
      "text/plain": [
       "1"
      ]
     },
     "execution_count": 86,
     "metadata": {},
     "output_type": "execute_result"
    }
   ],
   "source": [
    "# Test\n",
    "count_moral_words({'a':['sin'],'b':['sin']}, \"This is an immoral sinful sentence full of hate and judgment\")"
   ]
  },
  {
   "cell_type": "code",
   "execution_count": null,
   "metadata": {},
   "outputs": [],
   "source": [
    "#df['num_morality_tokens'] = df[commenter_morality_cols].sum(axis=1)\n",
    "df['num_morality_tokens'] = [count_moral_words(morality_dict, x) for x in comments]"
   ]
  },
  {
   "cell_type": "code",
   "execution_count": null,
   "metadata": {
    "collapsed": true
   },
   "outputs": [],
   "source": [
    "pickle.dump(df, open('model_df.p', 'wb'))"
   ]
  },
  {
   "cell_type": "code",
   "execution_count": 91,
   "metadata": {
    "collapsed": true
   },
   "outputs": [],
   "source": [
    "df['prop_moral'] = df['num_morality_tokens']/df['comment_length']"
   ]
  },
  {
   "cell_type": "code",
   "execution_count": 92,
   "metadata": {},
   "outputs": [],
   "source": [
    "df['prop_moral'] = df['prop_moral'].fillna(0) #Fill nans with zeros"
   ]
  },
  {
   "cell_type": "code",
   "execution_count": 162,
   "metadata": {},
   "outputs": [
    {
     "data": {
      "text/plain": [
       "<matplotlib.text.Text at 0x17ac0c710>"
      ]
     },
     "execution_count": 162,
     "metadata": {},
     "output_type": "execute_result"
    },
    {
     "data": {
      "image/png": "[encoded data removed]",
      "text/plain": [
       "<matplotlib.figure.Figure at 0x17aa17cc0>"
      ]
     },
     "metadata": {},
     "output_type": "display_data"
    }
   ],
   "source": [
    "ax = df['prop_moral'].hist(bins=100)\n",
    "ax.set_xlabel('Proportion of moral tokens')\n",
    "ax.set_ylabel('Number of comments')"
   ]
  },
  {
   "cell_type": "code",
   "execution_count": null,
   "metadata": {
    "collapsed": true
   },
   "outputs": [],
   "source": [
    "moral = df[df['num_morality_tokens'] >= 1]\n",
    "not_moral = df[df['num_morality_tokens'] == 0]\n",
    "has_delta = df[df['delta'] == 1]\n",
    "not_delta = df[df['delta'] == 0]"
   ]
  },
  {
   "cell_type": "code",
   "execution_count": 163,
   "metadata": {},
   "outputs": [
    {
     "data": {
      "text/plain": [
       "<matplotlib.text.Text at 0x17b0677b8>"
      ]
     },
     "execution_count": 163,
     "metadata": {},
     "output_type": "execute_result"
    },
    {
     "data": {
      "image/png": "[encoded data removed]",
      "text/plain": [
       "<matplotlib.figure.Figure at 0x17ae9d630>"
      ]
     },
     "metadata": {},
     "output_type": "display_data"
    }
   ],
   "source": [
    "plot=has_delta.prop_moral.hist(bins=50,color='black')\n",
    "plot.set_xlim(0,1)\n",
    "plot.set_xlabel('Proportion of moral tokens')\n",
    "plot.set_ylabel('Number of comments')"
   ]
  },
  {
   "cell_type": "code",
   "execution_count": 164,
   "metadata": {},
   "outputs": [
    {
     "data": {
      "text/plain": [
       "<matplotlib.text.Text at 0x17b1e3748>"
      ]
     },
     "execution_count": 164,
     "metadata": {},
     "output_type": "execute_result"
    },
    {
     "data": {
      "image/png": "[encoded data removed]",
      "text/plain": [
       "<matplotlib.figure.Figure at 0x17b1b1198>"
      ]
     },
     "metadata": {},
     "output_type": "display_data"
    }
   ],
   "source": [
    "plot = not_delta.prop_moral.hist(bins=50,color='red')\n",
    "plot.set_xlim(0,1)\n",
    "plot.set_xlabel('Proportion of moral tokens')\n",
    "plot.set_ylabel('Number of comments')"
   ]
  },
  {
   "cell_type": "code",
   "execution_count": 94,
   "metadata": {},
   "outputs": [
    {
     "data": {
      "text/plain": [
       "<matplotlib.collections.PathCollection at 0x14494d860>"
      ]
     },
     "execution_count": 94,
     "metadata": {},
     "output_type": "execute_result"
    },
    {
     "data": {
      "image/png": "[encoded data removed]",
      "text/plain": [
       "<matplotlib.figure.Figure at 0x1448d3518>"
      ]
     },
     "metadata": {},
     "output_type": "display_data"
    }
   ],
   "source": [
    "plt.scatter(x=df['comment_length'],y=df['num_morality_tokens'])"
   ]
  },
  {
   "cell_type": "code",
   "execution_count": 178,
   "metadata": {},
   "outputs": [
    {
     "data": {
      "image/png": "[encoded data removed]",
      "text/plain": [
       "<matplotlib.figure.Figure at 0x1895fdd68>"
      ]
     },
     "metadata": {},
     "output_type": "display_data"
    }
   ],
   "source": [
    "p = plt.scatter(x=df['comment_length'], y=df['prop_moral'])\n",
    "p.axes.set_xlabel('Number of tokens')\n",
    "p.axes.set_ylabel('Proportion of moral tokens')\n",
    "p.figure.set_size_inches(8,6)"
   ]
  },
  {
   "cell_type": "code",
   "execution_count": 120,
   "metadata": {},
   "outputs": [
    {
     "data": {
      "text/plain": [
       "<matplotlib.axes._subplots.AxesSubplot at 0x12e5e0208>"
      ]
     },
     "execution_count": 120,
     "metadata": {},
     "output_type": "execute_result"
    },
    {
     "data": {
      "image/png": "[encoded data removed]",
      "text/plain": [
       "<matplotlib.figure.Figure at 0x145a6c048>"
      ]
     },
     "metadata": {},
     "output_type": "display_data"
    }
   ],
   "source": [
    "df.delta.hist()"
   ]
  },
  {
   "cell_type": "code",
   "execution_count": null,
   "metadata": {},
   "outputs": [],
   "source": []
  },
  {
   "cell_type": "code",
   "execution_count": 150,
   "metadata": {},
   "outputs": [
    {
     "data": {
      "text/plain": [
       "['__class__',\n",
       " '__delattr__',\n",
       " '__dict__',\n",
       " '__dir__',\n",
       " '__doc__',\n",
       " '__eq__',\n",
       " '__format__',\n",
       " '__ge__',\n",
       " '__getattribute__',\n",
       " '__getstate__',\n",
       " '__gt__',\n",
       " '__hash__',\n",
       " '__init__',\n",
       " '__init_subclass__',\n",
       " '__le__',\n",
       " '__lt__',\n",
       " '__module__',\n",
       " '__ne__',\n",
       " '__new__',\n",
       " '__reduce__',\n",
       " '__reduce_ex__',\n",
       " '__repr__',\n",
       " '__setattr__',\n",
       " '__setstate__',\n",
       " '__sizeof__',\n",
       " '__str__',\n",
       " '__subclasshook__',\n",
       " '__weakref__',\n",
       " '_add_text',\n",
       " '_adjustable',\n",
       " '_agg_filter',\n",
       " '_alpha',\n",
       " '_anchor',\n",
       " '_animated',\n",
       " '_aspect',\n",
       " '_autoscaleXon',\n",
       " '_autoscaleYon',\n",
       " '_axes',\n",
       " '_axes_class',\n",
       " '_axes_locator',\n",
       " '_axisbelow',\n",
       " '_cachedRenderer',\n",
       " '_clipon',\n",
       " '_clippath',\n",
       " '_connected',\n",
       " '_contains',\n",
       " '_current_image',\n",
       " '_cursorProps',\n",
       " '_facecolor',\n",
       " '_frameon',\n",
       " '_gci',\n",
       " '_gen_axes_patch',\n",
       " '_gen_axes_spines',\n",
       " '_get_axis_list',\n",
       " '_get_legend_handles',\n",
       " '_get_lines',\n",
       " '_get_patches_for_fill',\n",
       " '_get_view',\n",
       " '_gid',\n",
       " '_gridOn',\n",
       " '_hold',\n",
       " '_init_axis',\n",
       " '_label',\n",
       " '_left_title',\n",
       " '_make_twin_axes',\n",
       " '_mouseover',\n",
       " '_navigate',\n",
       " '_navigate_mode',\n",
       " '_oid',\n",
       " '_originalPosition',\n",
       " '_path_effects',\n",
       " '_pcolorargs',\n",
       " '_picker',\n",
       " '_position',\n",
       " '_process_unit_info',\n",
       " '_prop_order',\n",
       " '_propobservers',\n",
       " '_rasterization_zorder',\n",
       " '_rasterized',\n",
       " '_remove_method',\n",
       " '_right_title',\n",
       " '_sci',\n",
       " '_set_artist_props',\n",
       " '_set_gc_clip',\n",
       " '_set_lim_and_transforms',\n",
       " '_set_view',\n",
       " '_set_view_from_bbox',\n",
       " '_shared_x_axes',\n",
       " '_shared_y_axes',\n",
       " '_sharex',\n",
       " '_sharey',\n",
       " '_sketch',\n",
       " '_snap',\n",
       " '_stale',\n",
       " '_sticky_edges',\n",
       " '_subplotspec',\n",
       " '_tight',\n",
       " '_transform',\n",
       " '_transformSet',\n",
       " '_update_line_limits',\n",
       " '_update_patch_limits',\n",
       " '_update_transScale',\n",
       " '_url',\n",
       " '_use_sticky_edges',\n",
       " '_visible',\n",
       " '_xaxis_transform',\n",
       " '_xcid',\n",
       " '_xmargin',\n",
       " '_yaxis_transform',\n",
       " '_ycid',\n",
       " '_ymargin',\n",
       " 'acorr',\n",
       " 'add_artist',\n",
       " 'add_callback',\n",
       " 'add_collection',\n",
       " 'add_container',\n",
       " 'add_image',\n",
       " 'add_line',\n",
       " 'add_patch',\n",
       " 'add_table',\n",
       " 'aname',\n",
       " 'angle_spectrum',\n",
       " 'annotate',\n",
       " 'apply_aspect',\n",
       " 'arrow',\n",
       " 'artists',\n",
       " 'autoscale',\n",
       " 'autoscale_view',\n",
       " 'axes',\n",
       " 'axesPatch',\n",
       " 'axhline',\n",
       " 'axhspan',\n",
       " 'axis',\n",
       " 'axison',\n",
       " 'axvline',\n",
       " 'axvspan',\n",
       " 'bar',\n",
       " 'barbs',\n",
       " 'barh',\n",
       " 'bbox',\n",
       " 'boxplot',\n",
       " 'broken_barh',\n",
       " 'bxp',\n",
       " 'callbacks',\n",
       " 'can_pan',\n",
       " 'can_zoom',\n",
       " 'change_geometry',\n",
       " 'cla',\n",
       " 'clabel',\n",
       " 'clear',\n",
       " 'clipbox',\n",
       " 'cohere',\n",
       " 'colNum',\n",
       " 'collections',\n",
       " 'containers',\n",
       " 'contains',\n",
       " 'contains_point',\n",
       " 'contour',\n",
       " 'contourf',\n",
       " 'convert_xunits',\n",
       " 'convert_yunits',\n",
       " 'csd',\n",
       " 'dataLim',\n",
       " 'drag_pan',\n",
       " 'draw',\n",
       " 'draw_artist',\n",
       " 'end_pan',\n",
       " 'errorbar',\n",
       " 'eventplot',\n",
       " 'eventson',\n",
       " 'figbox',\n",
       " 'figure',\n",
       " 'fill',\n",
       " 'fill_between',\n",
       " 'fill_betweenx',\n",
       " 'findobj',\n",
       " 'fmt_xdata',\n",
       " 'fmt_ydata',\n",
       " 'format_coord',\n",
       " 'format_cursor_data',\n",
       " 'format_xdata',\n",
       " 'format_ydata',\n",
       " 'get_adjustable',\n",
       " 'get_agg_filter',\n",
       " 'get_alpha',\n",
       " 'get_anchor',\n",
       " 'get_animated',\n",
       " 'get_aspect',\n",
       " 'get_autoscale_on',\n",
       " 'get_autoscalex_on',\n",
       " 'get_autoscaley_on',\n",
       " 'get_axes',\n",
       " 'get_axes_locator',\n",
       " 'get_axis_bgcolor',\n",
       " 'get_axisbelow',\n",
       " 'get_children',\n",
       " 'get_clip_box',\n",
       " 'get_clip_on',\n",
       " 'get_clip_path',\n",
       " 'get_contains',\n",
       " 'get_cursor_data',\n",
       " 'get_cursor_props',\n",
       " 'get_data_ratio',\n",
       " 'get_data_ratio_log',\n",
       " 'get_default_bbox_extra_artists',\n",
       " 'get_facecolor',\n",
       " 'get_fc',\n",
       " 'get_figure',\n",
       " 'get_frame_on',\n",
       " 'get_geometry',\n",
       " 'get_gid',\n",
       " 'get_images',\n",
       " 'get_label',\n",
       " 'get_legend',\n",
       " 'get_legend_handles_labels',\n",
       " 'get_lines',\n",
       " 'get_navigate',\n",
       " 'get_navigate_mode',\n",
       " 'get_path_effects',\n",
       " 'get_picker',\n",
       " 'get_position',\n",
       " 'get_rasterization_zorder',\n",
       " 'get_rasterized',\n",
       " 'get_renderer_cache',\n",
       " 'get_shared_x_axes',\n",
       " 'get_shared_y_axes',\n",
       " 'get_sketch_params',\n",
       " 'get_snap',\n",
       " 'get_subplotspec',\n",
       " 'get_tightbbox',\n",
       " 'get_title',\n",
       " 'get_transform',\n",
       " 'get_transformed_clip_path_and_affine',\n",
       " 'get_url',\n",
       " 'get_visible',\n",
       " 'get_window_extent',\n",
       " 'get_xaxis',\n",
       " 'get_xaxis_text1_transform',\n",
       " 'get_xaxis_text2_transform',\n",
       " 'get_xaxis_transform',\n",
       " 'get_xbound',\n",
       " 'get_xgridlines',\n",
       " 'get_xlabel',\n",
       " 'get_xlim',\n",
       " 'get_xmajorticklabels',\n",
       " 'get_xminorticklabels',\n",
       " 'get_xscale',\n",
       " 'get_xticklabels',\n",
       " 'get_xticklines',\n",
       " 'get_xticks',\n",
       " 'get_yaxis',\n",
       " 'get_yaxis_text1_transform',\n",
       " 'get_yaxis_text2_transform',\n",
       " 'get_yaxis_transform',\n",
       " 'get_ybound',\n",
       " 'get_ygridlines',\n",
       " 'get_ylabel',\n",
       " 'get_ylim',\n",
       " 'get_ymajorticklabels',\n",
       " 'get_yminorticklabels',\n",
       " 'get_yscale',\n",
       " 'get_yticklabels',\n",
       " 'get_yticklines',\n",
       " 'get_yticks',\n",
       " 'get_zorder',\n",
       " 'grid',\n",
       " 'has_data',\n",
       " 'have_units',\n",
       " 'hexbin',\n",
       " 'hist',\n",
       " 'hist2d',\n",
       " 'hitlist',\n",
       " 'hlines',\n",
       " 'hold',\n",
       " 'ignore_existing_data_limits',\n",
       " 'images',\n",
       " 'imshow',\n",
       " 'in_axes',\n",
       " 'invert_xaxis',\n",
       " 'invert_yaxis',\n",
       " 'is_figure_set',\n",
       " 'is_first_col',\n",
       " 'is_first_row',\n",
       " 'is_last_col',\n",
       " 'is_last_row',\n",
       " 'is_transform_set',\n",
       " 'ishold',\n",
       " 'label_outer',\n",
       " 'legend',\n",
       " 'legend_',\n",
       " 'lines',\n",
       " 'locator_params',\n",
       " 'loglog',\n",
       " 'magnitude_spectrum',\n",
       " 'margins',\n",
       " 'matshow',\n",
       " 'minorticks_off',\n",
       " 'minorticks_on',\n",
       " 'mouseover',\n",
       " 'mouseover_set',\n",
       " 'name',\n",
       " 'numCols',\n",
       " 'numRows',\n",
       " 'patch',\n",
       " 'patches',\n",
       " 'pchanged',\n",
       " 'pcolor',\n",
       " 'pcolorfast',\n",
       " 'pcolormesh',\n",
       " 'phase_spectrum',\n",
       " 'pick',\n",
       " 'pickable',\n",
       " 'pie',\n",
       " 'plot',\n",
       " 'plot_date',\n",
       " 'properties',\n",
       " 'psd',\n",
       " 'quiver',\n",
       " 'quiverkey',\n",
       " 'redraw_in_frame',\n",
       " 'relim',\n",
       " 'remove',\n",
       " 'remove_callback',\n",
       " 'reset_position',\n",
       " 'rowNum',\n",
       " 'scatter',\n",
       " 'semilogx',\n",
       " 'semilogy',\n",
       " 'set',\n",
       " 'set_adjustable',\n",
       " 'set_agg_filter',\n",
       " 'set_alpha',\n",
       " 'set_anchor',\n",
       " 'set_animated',\n",
       " 'set_aspect',\n",
       " 'set_autoscale_on',\n",
       " 'set_autoscalex_on',\n",
       " 'set_autoscaley_on',\n",
       " 'set_axes',\n",
       " 'set_axes_locator',\n",
       " 'set_axis_bgcolor',\n",
       " 'set_axis_off',\n",
       " 'set_axis_on',\n",
       " 'set_axisbelow',\n",
       " 'set_clip_box',\n",
       " 'set_clip_on',\n",
       " 'set_clip_path',\n",
       " 'set_color_cycle',\n",
       " 'set_contains',\n",
       " 'set_cursor_props',\n",
       " 'set_facecolor',\n",
       " 'set_fc',\n",
       " 'set_figure',\n",
       " 'set_frame_on',\n",
       " 'set_gid',\n",
       " 'set_label',\n",
       " 'set_navigate',\n",
       " 'set_navigate_mode',\n",
       " 'set_path_effects',\n",
       " 'set_picker',\n",
       " 'set_position',\n",
       " 'set_prop_cycle',\n",
       " 'set_rasterization_zorder',\n",
       " 'set_rasterized',\n",
       " 'set_sketch_params',\n",
       " 'set_snap',\n",
       " 'set_subplotspec',\n",
       " 'set_title',\n",
       " 'set_transform',\n",
       " 'set_url',\n",
       " 'set_visible',\n",
       " 'set_xbound',\n",
       " 'set_xlabel',\n",
       " 'set_xlim',\n",
       " 'set_xmargin',\n",
       " 'set_xscale',\n",
       " 'set_xticklabels',\n",
       " 'set_xticks',\n",
       " 'set_ybound',\n",
       " 'set_ylabel',\n",
       " 'set_ylim',\n",
       " 'set_ymargin',\n",
       " 'set_yscale',\n",
       " 'set_yticklabels',\n",
       " 'set_yticks',\n",
       " 'set_zorder',\n",
       " 'specgram',\n",
       " 'spines',\n",
       " 'spy',\n",
       " 'stackplot',\n",
       " 'stale',\n",
       " 'stale_callback',\n",
       " 'start_pan',\n",
       " 'stem',\n",
       " 'step',\n",
       " 'sticky_edges',\n",
       " 'streamplot',\n",
       " 'table',\n",
       " 'tables',\n",
       " 'text',\n",
       " 'texts',\n",
       " 'tick_params',\n",
       " 'ticklabel_format',\n",
       " 'title',\n",
       " 'titleOffsetTrans',\n",
       " 'transAxes',\n",
       " 'transData',\n",
       " 'transLimits',\n",
       " 'transScale',\n",
       " 'tricontour',\n",
       " 'tricontourf',\n",
       " 'tripcolor',\n",
       " 'triplot',\n",
       " 'twinx',\n",
       " 'twiny',\n",
       " 'update',\n",
       " 'update_datalim',\n",
       " 'update_datalim_bounds',\n",
       " 'update_datalim_numerix',\n",
       " 'update_from',\n",
       " 'update_params',\n",
       " 'use_sticky_edges',\n",
       " 'viewLim',\n",
       " 'violin',\n",
       " 'violinplot',\n",
       " 'vlines',\n",
       " 'xaxis',\n",
       " 'xaxis_date',\n",
       " 'xaxis_inverted',\n",
       " 'xcorr',\n",
       " 'yaxis',\n",
       " 'yaxis_date',\n",
       " 'yaxis_inverted',\n",
       " 'zorder']"
      ]
     },
     "execution_count": 150,
     "metadata": {},
     "output_type": "execute_result"
    }
   ],
   "source": [
    "dir(fig)"
   ]
  },
  {
   "cell_type": "code",
   "execution_count": 37,
   "metadata": {
    "collapsed": true
   },
   "outputs": [],
   "source": [
    "#TODO: Graph % moral terms by delta.\n",
    "#TODO: SHow mean delta for moral and not moral"
   ]
  },
  {
   "cell_type": "code",
   "execution_count": 29,
   "metadata": {
    "collapsed": true
   },
   "outputs": [],
   "source": [
    "#TODO: Current graph y axis > 1.0 because morality words not countded at the token level..."
   ]
  },
  {
   "cell_type": "code",
   "execution_count": null,
   "metadata": {
    "collapsed": true
   },
   "outputs": [],
   "source": []
  },
  {
   "cell_type": "code",
   "execution_count": 97,
   "metadata": {},
   "outputs": [
    {
     "data": {
      "text/plain": [
       "(213662, 66)"
      ]
     },
     "execution_count": 97,
     "metadata": {},
     "output_type": "execute_result"
    }
   ],
   "source": [
    "moral.shape"
   ]
  },
  {
   "cell_type": "code",
   "execution_count": 98,
   "metadata": {},
   "outputs": [
    {
     "data": {
      "text/plain": [
       "(270478, 66)"
      ]
     },
     "execution_count": 98,
     "metadata": {},
     "output_type": "execute_result"
    }
   ],
   "source": [
    "not_moral.shape"
   ]
  },
  {
   "cell_type": "code",
   "execution_count": 99,
   "metadata": {},
   "outputs": [],
   "source": [
    "from scipy.stats import ttest_ind"
   ]
  },
  {
   "cell_type": "code",
   "execution_count": 100,
   "metadata": {},
   "outputs": [
    {
     "data": {
      "text/plain": [
       "Ttest_indResult(statistic=51.16003048419855, pvalue=0.0)"
      ]
     },
     "execution_count": 100,
     "metadata": {},
     "output_type": "execute_result"
    }
   ],
   "source": [
    "ttest_ind(moral['delta'], not_moral['delta'])"
   ]
  },
  {
   "cell_type": "code",
   "execution_count": 101,
   "metadata": {},
   "outputs": [
    {
     "data": {
      "text/plain": [
       "0.033314300156321669"
      ]
     },
     "execution_count": 101,
     "metadata": {},
     "output_type": "execute_result"
    }
   ],
   "source": [
    "moral['delta'].mean()"
   ]
  },
  {
   "cell_type": "code",
   "execution_count": 102,
   "metadata": {},
   "outputs": [
    {
     "data": {
      "text/plain": [
       "0.01195291299107506"
      ]
     },
     "execution_count": 102,
     "metadata": {},
     "output_type": "execute_result"
    }
   ],
   "source": [
    "not_moral['delta'].mean()"
   ]
  },
  {
   "cell_type": "markdown",
   "metadata": {},
   "source": [
    "These results show large differences in deltas based on whether or not a comment contained a moral word. Moral comments were much more likely to achieve deltas."
   ]
  },
  {
   "cell_type": "markdown",
   "metadata": {},
   "source": [
    "Now to assess whether the similarity between OP and comment is associated with deltas."
   ]
  },
  {
   "cell_type": "code",
   "execution_count": 117,
   "metadata": {},
   "outputs": [
    {
     "data": {
      "text/plain": [
       "Ttest_indResult(statistic=42.367037909036071, pvalue=0.0)"
      ]
     },
     "execution_count": 117,
     "metadata": {},
     "output_type": "execute_result"
    }
   ],
   "source": [
    "ttest_ind(has_delta['jaccard_sim_same'], not_delta['jaccard_sim_same'])"
   ]
  },
  {
   "cell_type": "code",
   "execution_count": 118,
   "metadata": {},
   "outputs": [
    {
     "data": {
      "text/plain": [
       "0.43750788869134932"
      ]
     },
     "execution_count": 118,
     "metadata": {},
     "output_type": "execute_result"
    }
   ],
   "source": [
    "has_delta['jaccard_sim_same'].mean()"
   ]
  },
  {
   "cell_type": "code",
   "execution_count": 119,
   "metadata": {},
   "outputs": [
    {
     "data": {
      "text/plain": [
       "0.34361236880987212"
      ]
     },
     "execution_count": 119,
     "metadata": {},
     "output_type": "execute_result"
    }
   ],
   "source": [
    "not_delta['jaccard_sim_same'].mean()"
   ]
  },
  {
   "cell_type": "code",
   "execution_count": 189,
   "metadata": {},
   "outputs": [
    {
     "data": {
      "text/plain": [
       "<matplotlib.text.Text at 0x18738c4e0>"
      ]
     },
     "execution_count": 189,
     "metadata": {},
     "output_type": "execute_result"
    },
    {
     "data": {
      "image/png": "[encoded data removed]",
      "text/plain": [
       "<matplotlib.figure.Figure at 0x187184da0>"
      ]
     },
     "metadata": {},
     "output_type": "display_data"
    }
   ],
   "source": [
    "p = has_delta['jaccard_sim_same'].hist(bins=6, color='black')\n",
    "p.set_xlabel('Jaccard similarity')\n",
    "p.set_ylabel('Number of OP-commenter pairs')"
   ]
  },
  {
   "cell_type": "code",
   "execution_count": 190,
   "metadata": {},
   "outputs": [
    {
     "data": {
      "text/plain": [
       "<matplotlib.text.Text at 0x186268400>"
      ]
     },
     "execution_count": 190,
     "metadata": {},
     "output_type": "execute_result"
    },
    {
     "data": {
      "image/png": "[encoded data removed]",
      "text/plain": [
       "<matplotlib.figure.Figure at 0x18689a198>"
      ]
     },
     "metadata": {},
     "output_type": "display_data"
    }
   ],
   "source": [
    "p = not_delta['jaccard_sim_same'].hist(bins=6, color='red')\n",
    "p.set_xlabel('Jaccard similarity')\n",
    "p.set_ylabel('Number of OP-commenter pairs')"
   ]
  },
  {
   "cell_type": "code",
   "execution_count": 196,
   "metadata": {},
   "outputs": [
    {
     "data": {
      "image/png": "[encoded data removed]",
      "text/plain": [
       "<matplotlib.figure.Figure at 0x1837cff28>"
      ]
     },
     "metadata": {},
     "output_type": "display_data"
    }
   ],
   "source": [
    "p = plt.scatter(x=df['jaccard_sim_same'], y=df['comment_length'],alpha=0.003)\n",
    "p.axes.set_ylabel('Comment length')\n",
    "p.axes.set_xlabel('Jaccard similarity')\n",
    "p.figure.set_size_inches(8,6)"
   ]
  },
  {
   "cell_type": "code",
   "execution_count": null,
   "metadata": {
    "collapsed": true
   },
   "outputs": [],
   "source": []
  }
 ],
 "metadata": {
  "kernelspec": {
   "display_name": "Python 3",
   "language": "python",
   "name": "python3"
  },
  "language_info": {
   "codemirror_mode": {
    "name": "ipython",
    "version": 3
   },
   "file_extension": ".py",
   "mimetype": "text/x-python",
   "name": "python",
   "nbconvert_exporter": "python",
   "pygments_lexer": "ipython3",
   "version": "3.6.1"
  }
 },
 "nbformat": 4,
 "nbformat_minor": 2
}
